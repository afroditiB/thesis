{
  "cells": [
    {
      "cell_type": "markdown",
      "metadata": {
        "id": "duPr54Vo-Z34"
      },
      "source": [
        "###Importing the necessary libraries"
      ]
    },
    {
      "cell_type": "code",
      "execution_count": 1,
      "metadata": {
        "id": "nn_m2J7J-Tkb",
        "colab": {
          "base_uri": "https://localhost:8080/"
        },
        "outputId": "950803e0-66f3-49b1-a795-66d69aa995a5"
      },
      "outputs": [
        {
          "output_type": "stream",
          "name": "stdout",
          "text": [
            "Looking in indexes: https://pypi.org/simple, https://us-python.pkg.dev/colab-wheels/public/simple/\n",
            "Requirement already satisfied: pymongo in /usr/local/lib/python3.8/dist-packages (4.3.3)\n",
            "Requirement already satisfied: dnspython<3.0.0,>=1.16.0 in /usr/local/lib/python3.8/dist-packages (from pymongo) (2.3.0)\n"
          ]
        }
      ],
      "source": [
        "!pip install pymongo\n",
        "import pymongo\n",
        "import sys\n",
        "from pymongo import MongoClient\n",
        "import pandas as pd\n",
        "import matplotlib.pyplot as plt\n",
        "import numpy as np\n",
        "import seaborn as sns\n"
      ]
    },
    {
      "cell_type": "markdown",
      "source": [
        "### Defining functions"
      ],
      "metadata": {
        "id": "c_b2QFJUeoKe"
      }
    },
    {
      "cell_type": "code",
      "execution_count": 2,
      "metadata": {
        "id": "q3g4SMmAq2Ar"
      },
      "outputs": [],
      "source": [
        "def bring_current_datetime():\n",
        "  \"\"\"\n",
        "  Parameters: None\n",
        "\n",
        "  Returns: dt_string : string :the current datetime \n",
        "  \n",
        "  \"\"\"\n",
        "  from datetime import datetime\n",
        "\n",
        "  # datetime object containing current date and time\n",
        "  now = datetime.now()\n",
        " \n",
        "  # YY-mm-dd H:M:S format\n",
        "  dt_string = now.strftime(\"%Y-%m-%d %H:%M:%S\")\n",
        "  return dt_string"
      ]
    },
    {
      "cell_type": "code",
      "execution_count": 3,
      "metadata": {
        "id": "B_5NODKoql_L"
      },
      "outputs": [],
      "source": [
        "def fill_missing_dates(df,start_date,end_date):\n",
        "  \"\"\"\n",
        "  Parameters: df : pd.Dataframe : the dataframe that we want to check for missing datetime values\n",
        "            start_date : str : the date when the df's index will start\n",
        "            end_date : str :the date when the df's index will end\n",
        "\n",
        "  Returns : df_copy : the dataframe that was given as an input with start_date <= index <=  end_date\n",
        "  \n",
        "  For this function to work the input df has to have Datetime index\n",
        "\n",
        "  This function takes a dataframe with a datetime index, a start and end date as an input and returns\n",
        "\"\"\"\n",
        "  dts=pd.date_range(start=pd.Timestamp(start_date), end=pd.Timestamp(end_date), freq=\"5T\")\n",
        "  df=df.reindex(dts)\n",
        "  return df"
      ]
    },
    {
      "cell_type": "markdown",
      "source": [
        "#Collecting data from Database and reading Csvs"
      ],
      "metadata": {
        "id": "u-DHkeAOevO6"
      }
    },
    {
      "cell_type": "markdown",
      "metadata": {
        "id": "PB5qlM82AkgO"
      },
      "source": [
        "Using the below credentials to collect the necessary data, for current, power and voltage of each smart meter (Wi , i=2,3,..,6), and saving them into CSVs\n"
      ]
    },
    {
      "cell_type": "code",
      "execution_count": 4,
      "metadata": {
        "id": "xnok_P1w-YmY"
      },
      "outputs": [],
      "source": [
        "db = MongoClient('131.154.97.22', \n",
        "                     27017, \n",
        "                     username='inergy',\n",
        "                     password='inergySt0rag32oo22!').get_database('inergy_prod_db')"
      ]
    },
    {
      "cell_type": "code",
      "execution_count": 5,
      "metadata": {
        "id": "Uk4e2D2FA1mi"
      },
      "outputs": [],
      "source": [
        "current_collection = db.asm_historical_smart_meters_uc6_current\n",
        "power_collection = db.asm_historical_smart_meters_uc6_power\n",
        "voltage_collection = db.asm_historical_smart_meters_uc6_voltage"
      ]
    },
    {
      "cell_type": "code",
      "execution_count": null,
      "metadata": {
        "id": "K8Dlq_fRBo5Y"
      },
      "outputs": [],
      "source": [
        "current_df = pd.DataFrame(current_collection.find())\n",
        "current_df.to_csv('current_new.csv')\n",
        "print(\"Current Loaded\")\n",
        "power_df = pd.DataFrame(power_collection.find())\n",
        "power_df.to_csv('power_new.csv')\n",
        "print(\"Power Loaded\")\n",
        "voltage_df = pd.DataFrame(voltage_collection.find())\n",
        "voltage_df.to_csv('voltage_new.csv')\n",
        "print(\"Voltage Loaded\")"
      ]
    },
    {
      "cell_type": "markdown",
      "source": [
        "#Clearing data from unnecessary information"
      ],
      "metadata": {
        "id": "NCSnBb5w9EaM"
      }
    },
    {
      "cell_type": "markdown",
      "source": [
        "##Creating separate dataframes for every component"
      ],
      "metadata": {
        "id": "xi61Yxt1qZnI"
      }
    },
    {
      "cell_type": "markdown",
      "source": [
        "We create separate dataframes for every component (active power, reactive and apparent power) and then drop the uncnecessary columns from the df(Unnamed: 0, Unnamed, 2, id, power_type) as by splitting the initial df into different dfs for each meter and for active, reactive power.,etc., we have already this information\n"
      ],
      "metadata": {
        "id": "IBeROIHwfuf5"
      }
    },
    {
      "cell_type": "markdown",
      "source": [
        "### Power Data"
      ],
      "metadata": {
        "id": "5XbLTvtEfdIv"
      }
    },
    {
      "cell_type": "code",
      "source": [
        "power_w2=power_df[power_df['id']=='W2']\n",
        "power_w2_active = power_w2[power_w2[\"power_type\"]=='positive_active']\n",
        "power_w2_reactive = power_w2[power_w2[\"power_type\"]==\"positive_reactive\"]\n",
        "power_w2_apparent = power_w2[power_w2[\"power_type\"]==\"apparent\"]\n"
      ],
      "metadata": {
        "id": "nFikXRlBfT52"
      },
      "execution_count": 7,
      "outputs": []
    },
    {
      "cell_type": "code",
      "source": [
        "\n",
        "power_w2_active.drop(power_w2_active.filter(regex=\"Unname\"),axis=1, inplace=True)\n",
        "power_w2_reactive.drop(power_w2_reactive.filter(regex=\"Unname\"),axis=1, inplace=True)\n",
        "power_w2_apparent.drop(power_w2_reactive.filter(regex=\"Unname\"),axis=1, inplace=True)\n",
        "\n",
        "power_w2_active.drop([\"id\",\"power_type\",\"_id\"], axis=1,inplace=True)\n",
        "power_w2_reactive.drop([\"id\",\"power_type\",\"_id\"], axis=1,inplace=True)\n",
        "power_w2_apparent.drop([\"id\",\"power_type\",\"_id\"], axis=1,inplace=True)"
      ],
      "metadata": {
        "id": "sKQTd2J9fkYn"
      },
      "execution_count": null,
      "outputs": []
    },
    {
      "cell_type": "code",
      "source": [
        "power_w3=power_df[power_df['id']=='W3']\n",
        "power_w3_active = power_w3[power_w3[\"power_type\"]=='positive_active']\n",
        "power_w3_reactive = power_w3[power_w3[\"power_type\"]==\"positive_reactive\"]\n",
        "power_w3_apparent = power_w3[power_w3[\"power_type\"]==\"apparent\"]"
      ],
      "metadata": {
        "id": "1L8j2K1PqRj8"
      },
      "execution_count": 9,
      "outputs": []
    },
    {
      "cell_type": "code",
      "source": [
        "power_w3_active.drop(power_w3_active.filter(regex=\"Unname\"),axis=1, inplace=True)\n",
        "power_w3_reactive.drop(power_w3_reactive.filter(regex=\"Unname\"),axis=1, inplace=True)\n",
        "power_w3_apparent.drop(power_w3_active.filter(regex=\"Unname\"),axis=1, inplace=True)\n",
        "\n",
        "power_w3_active.drop([\"id\",\"power_type\",\"_id\"], axis=1,inplace=True)\n",
        "power_w3_reactive.drop([\"id\",\"power_type\",\"_id\"], axis=1,inplace=True)\n",
        "power_w3_apparent.drop([\"id\",\"power_type\",\"_id\"], axis=1,inplace=True)\n"
      ],
      "metadata": {
        "id": "IizbFiCkqRj9"
      },
      "execution_count": 10,
      "outputs": []
    },
    {
      "cell_type": "code",
      "source": [
        "power_w4=power_df[power_df['id']=='W4']\n",
        "power_w4_active = power_w4[power_w4[\"power_type\"]=='positive_active']\n",
        "power_w4_reactive = power_w4[power_w4[\"power_type\"]==\"positive_reactive\"]\n",
        "power_w4_apparent = power_w4[power_w4[\"power_type\"]==\"apparent\"]"
      ],
      "metadata": {
        "id": "BE3mq3FEoFIt"
      },
      "execution_count": 11,
      "outputs": []
    },
    {
      "cell_type": "code",
      "source": [
        "power_w4_active.drop(power_w4_active.filter(regex=\"Unname\"),axis=1, inplace=True)\n",
        "power_w4_reactive.drop(power_w4_reactive.filter(regex=\"Unname\"),axis=1, inplace=True)\n",
        "power_w4_apparent.drop(power_w4_active.filter(regex=\"Unname\"),axis=1, inplace=True)\n",
        "\n",
        "power_w4_active.drop([\"id\",\"power_type\",\"_id\"], axis=1,inplace=True)\n",
        "power_w4_reactive.drop([\"id\",\"power_type\",\"_id\"], axis=1,inplace=True)\n",
        "power_w4_apparent.drop([\"id\",\"power_type\",\"_id\"], axis=1,inplace=True)\n"
      ],
      "metadata": {
        "id": "GcYvv4e1oFIt"
      },
      "execution_count": 12,
      "outputs": []
    },
    {
      "cell_type": "code",
      "source": [
        "power_w5=power_df[power_df['id']=='W5']\n",
        "power_w5_active = power_w5[power_w5[\"power_type\"]=='positive_active']\n",
        "power_w5_reactive = power_w5[power_w5[\"power_type\"]==\"positive_reactive\"]\n",
        "power_w5_apparent = power_w5[power_w5[\"power_type\"]==\"apparent\"]"
      ],
      "metadata": {
        "id": "LXk1tOmXoiR2"
      },
      "execution_count": 13,
      "outputs": []
    },
    {
      "cell_type": "code",
      "source": [
        "power_w5_active.drop(power_w5_active.filter(regex=\"Unname\"),axis=1, inplace=True)\n",
        "power_w5_reactive.drop(power_w5_reactive.filter(regex=\"Unname\"),axis=1, inplace=True)\n",
        "power_w5_apparent.drop(power_w5_active.filter(regex=\"Unname\"),axis=1, inplace=True)\n",
        "\n",
        "power_w5_active.drop([\"id\",\"power_type\",\"_id\"], axis=1,inplace=True)\n",
        "power_w5_reactive.drop([\"id\",\"power_type\",\"_id\"], axis=1,inplace=True)\n",
        "power_w5_apparent.drop([\"id\",\"power_type\",\"_id\"], axis=1,inplace=True)\n"
      ],
      "metadata": {
        "id": "y8ZvF1fRoiR2"
      },
      "execution_count": 14,
      "outputs": []
    },
    {
      "cell_type": "code",
      "source": [
        "power_w6=power_df[power_df['id']=='W6']\n",
        "power_w6_active = power_w6[power_w6[\"power_type\"]=='positive_active']\n",
        "power_w6_reactive = power_w6[power_w6[\"power_type\"]==\"positive_reactive\"]\n",
        "power_w6_apparent = power_w6[power_w6[\"power_type\"]==\"apparent\"]"
      ],
      "metadata": {
        "id": "LM2_avXOpFQS"
      },
      "execution_count": 15,
      "outputs": []
    },
    {
      "cell_type": "code",
      "source": [
        "power_w6_active.drop(power_w6_active.filter(regex=\"Unname\"),axis=1, inplace=True)\n",
        "power_w6_reactive.drop(power_w6_reactive.filter(regex=\"Unname\"),axis=1, inplace=True)\n",
        "power_w6_apparent.drop(power_w6_active.filter(regex=\"Unname\"),axis=1, inplace=True)\n",
        "\n",
        "power_w6_active.drop([\"id\",\"power_type\",\"_id\"], axis=1,inplace=True)\n",
        "power_w6_reactive.drop([\"id\",\"power_type\",\"_id\"], axis=1,inplace=True)\n",
        "power_w6_apparent.drop([\"id\",\"power_type\",\"_id\"], axis=1,inplace=True)\n"
      ],
      "metadata": {
        "id": "cuDGc9pVpFQS"
      },
      "execution_count": 16,
      "outputs": []
    },
    {
      "cell_type": "markdown",
      "source": [
        "### Current Data"
      ],
      "metadata": {
        "id": "XB6HT5Qurzgp"
      }
    },
    {
      "cell_type": "code",
      "source": [
        "i_w2=current_df[current_df['id']=='W2']\n",
        "i_w2_phase1 = i_w2[i_w2[\"phase\"]=='l1']\n",
        "i_w2_phase2 = i_w2[i_w2[\"phase\"]==\"l2\"]\n",
        "i_w2_phase3 =i_w2[i_w2[\"phase\"]==\"l3\"]"
      ],
      "metadata": {
        "id": "X7GwSnNdfY-y"
      },
      "execution_count": 17,
      "outputs": []
    },
    {
      "cell_type": "code",
      "source": [
        "i_w2.drop(i_w2.filter(regex=\"Unname\"),axis=1, inplace=True)\n",
        "i_w2_phase1.drop(i_w2_phase1.filter(regex=\"Unname\"),axis=1, inplace=True)\n",
        "i_w2_phase2.drop(i_w2_phase2.filter(regex=\"Unname\"),axis=1, inplace=True)\n",
        "i_w2_phase3.drop(i_w2_phase3.filter(regex=\"Unname\"),axis=1, inplace=True)\n",
        "i_w2.drop([\"id\",\"_id\"], axis=1,inplace=True)\n",
        "\n",
        "i_w2_phase1.drop([\"id\",\"phase\",\"_id\"], axis=1,inplace=True)\n",
        "i_w2_phase2.drop([\"id\",\"phase\",\"_id\"], axis=1,inplace=True)\n",
        "i_w2_phase3.drop([\"id\",\"phase\",\"_id\"], axis=1,inplace=True)"
      ],
      "metadata": {
        "id": "TJsuP8drfpFu"
      },
      "execution_count": 18,
      "outputs": []
    },
    {
      "cell_type": "code",
      "source": [
        "i_w3=current_df[current_df['id']=='W3']\n",
        "i_w3_phase1 = i_w3[i_w3[\"phase\"]=='l1']\n",
        "i_w3_phase2 = i_w3[i_w3[\"phase\"]==\"l2\"]\n",
        "i_w3_phase3 =i_w3[i_w3[\"phase\"]==\"l3\"]"
      ],
      "metadata": {
        "id": "fxOQnGLxgx1w"
      },
      "execution_count": 19,
      "outputs": []
    },
    {
      "cell_type": "code",
      "source": [
        "i_w3_phase1.drop(i_w3_phase1.filter(regex=\"Unname\"),axis=1, inplace=True)\n",
        "i_w3_phase2.drop(i_w3_phase2.filter(regex=\"Unname\"),axis=1, inplace=True)\n",
        "i_w3_phase3.drop(i_w3_phase3.filter(regex=\"Unname\"),axis=1, inplace=True)\n",
        "\n",
        "i_w3_phase1.drop([\"id\",\"phase\",\"_id\"], axis=1,inplace=True)\n",
        "i_w3_phase2.drop([\"id\",\"phase\",\"_id\"], axis=1,inplace=True)\n",
        "i_w3_phase3.drop([\"id\",\"phase\",\"_id\"], axis=1,inplace=True)\n"
      ],
      "metadata": {
        "id": "LI25BcFNgx1w"
      },
      "execution_count": 20,
      "outputs": []
    },
    {
      "cell_type": "code",
      "source": [
        "i_w4=current_df[current_df['id']=='W4']\n",
        "i_w4_phase1 = i_w4[i_w4[\"phase\"]=='l1']\n",
        "i_w4_phase2 = i_w4[i_w4[\"phase\"]==\"l2\"]\n",
        "i_w4_phase3 =i_w4[i_w4[\"phase\"]==\"l3\"]\n"
      ],
      "metadata": {
        "id": "MuKb39NCr4cz"
      },
      "execution_count": 21,
      "outputs": []
    },
    {
      "cell_type": "code",
      "source": [
        "i_w4_phase1.drop(i_w4_phase1.filter(regex=\"Unname\"),axis=1, inplace=True)\n",
        "i_w4_phase2.drop(i_w4_phase2.filter(regex=\"Unname\"),axis=1, inplace=True)\n",
        "i_w4_phase3.drop(i_w4_phase3.filter(regex=\"Unname\"),axis=1, inplace=True)\n",
        "\n",
        "i_w4_phase1.drop([\"id\",\"phase\",\"_id\"], axis=1,inplace=True)\n",
        "i_w4_phase2.drop([\"id\",\"phase\",\"_id\"], axis=1,inplace=True)\n",
        "i_w4_phase3.drop([\"id\",\"phase\",\"_id\"], axis=1,inplace=True)"
      ],
      "metadata": {
        "id": "m--TiMLir4cz"
      },
      "execution_count": 22,
      "outputs": []
    },
    {
      "cell_type": "code",
      "source": [
        "i_w5=current_df[current_df['id']=='W5']\n",
        "i_w5_phase1 = i_w5[i_w5[\"phase\"]=='l1']\n",
        "i_w5_phase2 = i_w5[i_w5[\"phase\"]==\"l2\"]\n",
        "i_w5_phase3 =i_w5[i_w5[\"phase\"]==\"l3\"]"
      ],
      "metadata": {
        "id": "HiycIVp7r4c0"
      },
      "execution_count": 23,
      "outputs": []
    },
    {
      "cell_type": "code",
      "source": [
        "i_w5_phase1.drop(i_w5_phase1.filter(regex=\"Unname\"),axis=1, inplace=True)\n",
        "i_w5_phase2.drop(i_w5_phase2.filter(regex=\"Unname\"),axis=1, inplace=True)\n",
        "i_w5_phase3.drop(i_w5_phase3.filter(regex=\"Unname\"),axis=1, inplace=True)\n",
        "\n",
        "i_w5_phase1.drop([\"id\",\"phase\",\"_id\"], axis=1,inplace=True)\n",
        "i_w5_phase2.drop([\"id\",\"phase\",\"_id\"], axis=1,inplace=True)\n",
        "i_w5_phase3.drop([\"id\",\"phase\",\"_id\"], axis=1,inplace=True)"
      ],
      "metadata": {
        "id": "G8mdm2r1r4c0"
      },
      "execution_count": 24,
      "outputs": []
    },
    {
      "cell_type": "code",
      "source": [
        "i_w6=current_df[current_df['id']=='W6']\n",
        "i_w6_phase1 = i_w6[i_w6[\"phase\"]=='l1']\n",
        "i_w6_phase2 = i_w6[i_w6[\"phase\"]==\"l2\"]\n",
        "i_w6_phase3 =i_w6[i_w6[\"phase\"]==\"l3\"]"
      ],
      "metadata": {
        "id": "BxF0oYentnSN"
      },
      "execution_count": 25,
      "outputs": []
    },
    {
      "cell_type": "code",
      "source": [
        "i_w6_phase1.drop(i_w6_phase1.filter(regex=\"Unname\"),axis=1, inplace=True)\n",
        "i_w6_phase2.drop(i_w6_phase2.filter(regex=\"Unname\"),axis=1, inplace=True)\n",
        "i_w6_phase3.drop(i_w6_phase3.filter(regex=\"Unname\"),axis=1, inplace=True)\n",
        "\n",
        "i_w6_phase1.drop([\"id\",\"phase\",\"_id\"], axis=1,inplace=True)\n",
        "i_w6_phase2.drop([\"id\",\"phase\",\"_id\"], axis=1,inplace=True)\n",
        "i_w6_phase3.drop([\"id\",\"phase\",\"_id\"], axis=1,inplace=True)"
      ],
      "metadata": {
        "id": "HIFOpqtStpRC"
      },
      "execution_count": 26,
      "outputs": []
    },
    {
      "cell_type": "markdown",
      "source": [
        "### Voltage Data"
      ],
      "metadata": {
        "id": "C9HTz29ztv8m"
      }
    },
    {
      "cell_type": "code",
      "source": [
        "v_w2=voltage_df[voltage_df['id']=='W2']\n",
        "v_w2_phase1 = v_w2[v_w2[\"voltage_type\"]=='u1']\n",
        "v_w2_phase2 = v_w2[v_w2[\"voltage_type\"]==\"u2\"]\n",
        "v_w2_phase3 =v_w2[v_w2[\"voltage_type\"]==\"u3\"]"
      ],
      "metadata": {
        "id": "Ust-lpmzfZq-"
      },
      "execution_count": 27,
      "outputs": []
    },
    {
      "cell_type": "code",
      "source": [
        "v_w2_phase1.drop(v_w2_phase1.filter(regex=\"Unname\"),axis=1, inplace=True)\n",
        "v_w2_phase2.drop(v_w2_phase2.filter(regex=\"Unname\"),axis=1, inplace=True)\n",
        "v_w2_phase3.drop(v_w2_phase3.filter(regex=\"Unname\"),axis=1, inplace=True)\n",
        "\n",
        "v_w2_phase1.drop([\"id\",\"voltage_type\",\"_id\"], axis=1,inplace=True)\n",
        "v_w2_phase2.drop([\"id\",\"voltage_type\",\"_id\"], axis=1,inplace=True)\n",
        "v_w2_phase3.drop([\"id\",\"voltage_type\",\"_id\"], axis=1,inplace=True)"
      ],
      "metadata": {
        "id": "x3mwvOEugnC7"
      },
      "execution_count": 28,
      "outputs": []
    },
    {
      "cell_type": "code",
      "source": [
        "v_w3=voltage_df[voltage_df['id']=='W3']\n",
        "v_w3_phase1 = v_w3[v_w3[\"voltage_type\"]=='u1']\n",
        "v_w3_phase2 = v_w3[v_w3[\"voltage_type\"]==\"u2\"]\n",
        "v_w3_phase3 =v_w3[v_w3[\"voltage_type\"]==\"u3\"]"
      ],
      "metadata": {
        "id": "6tI3sh03gx1w"
      },
      "execution_count": 29,
      "outputs": []
    },
    {
      "cell_type": "code",
      "source": [
        "v_w3_phase1.drop(v_w3_phase1.filter(regex=\"Unname\"),axis=1, inplace=True)\n",
        "v_w3_phase2.drop(v_w3_phase2.filter(regex=\"Unname\"),axis=1, inplace=True)\n",
        "v_w3_phase3.drop(v_w3_phase3.filter(regex=\"Unname\"),axis=1, inplace=True)\n",
        "\n",
        "v_w3_phase1.drop([\"id\",\"voltage_type\",\"_id\"], axis=1,inplace=True)\n",
        "v_w3_phase2.drop([\"id\",\"voltage_type\",\"_id\"], axis=1,inplace=True)\n",
        "v_w3_phase3.drop([\"id\",\"voltage_type\",\"_id\"], axis=1,inplace=True)"
      ],
      "metadata": {
        "id": "Hl_vb9Gygx1w"
      },
      "execution_count": 30,
      "outputs": []
    },
    {
      "cell_type": "code",
      "source": [
        "v_w4=voltage_df[voltage_df['id']=='W4']\n",
        "v_w4_phase1 = v_w4[v_w4[\"voltage_type\"]=='u1']\n",
        "v_w4_phase2 = v_w4[v_w4[\"voltage_type\"]==\"u2\"]\n",
        "v_w4_phase3 =v_w4[v_w4[\"voltage_type\"]==\"u3\"]"
      ],
      "metadata": {
        "id": "y3gUN4q3tv8o"
      },
      "execution_count": 31,
      "outputs": []
    },
    {
      "cell_type": "code",
      "source": [
        "v_w4_phase1.drop(v_w4_phase1.filter(regex=\"Unname\"),axis=1, inplace=True)\n",
        "v_w4_phase2.drop(v_w4_phase2.filter(regex=\"Unname\"),axis=1, inplace=True)\n",
        "v_w4_phase3.drop(v_w4_phase3.filter(regex=\"Unname\"),axis=1, inplace=True)\n",
        "\n",
        "v_w4_phase1.drop([\"id\",\"voltage_type\",\"_id\"], axis=1,inplace=True)\n",
        "v_w4_phase2.drop([\"id\",\"voltage_type\",\"_id\"], axis=1,inplace=True)\n",
        "v_w4_phase3.drop([\"id\",\"voltage_type\",\"_id\"], axis=1,inplace=True)\n"
      ],
      "metadata": {
        "id": "5c6MFED-tv8o"
      },
      "execution_count": 32,
      "outputs": []
    },
    {
      "cell_type": "code",
      "source": [
        "#w5\n",
        "v_w5=voltage_df[voltage_df['id']=='W5']\n",
        "v_w5_phase1 = v_w5[v_w5[\"voltage_type\"]=='u1']\n",
        "v_w5_phase2 = v_w5[v_w5[\"voltage_type\"]==\"u2\"]\n",
        "v_w5_phase3 =v_w5[v_w5[\"voltage_type\"]==\"u3\"]"
      ],
      "metadata": {
        "id": "wkVJACHqtv8o"
      },
      "execution_count": 33,
      "outputs": []
    },
    {
      "cell_type": "code",
      "source": [
        "v_w5_phase1.drop(v_w5_phase1.filter(regex=\"Unname\"),axis=1, inplace=True)\n",
        "v_w5_phase2.drop(v_w5_phase2.filter(regex=\"Unname\"),axis=1, inplace=True)\n",
        "v_w5_phase3.drop(v_w5_phase3.filter(regex=\"Unname\"),axis=1, inplace=True)\n",
        "\n",
        "v_w5_phase1.drop([\"id\",\"voltage_type\",\"_id\"], axis=1,inplace=True)\n",
        "v_w5_phase2.drop([\"id\",\"voltage_type\",\"_id\"], axis=1,inplace=True)\n",
        "v_w5_phase3.drop([\"id\",\"voltage_type\",\"_id\"], axis=1,inplace=True)"
      ],
      "metadata": {
        "id": "l-4eeE_ftv8o"
      },
      "execution_count": 34,
      "outputs": []
    },
    {
      "cell_type": "code",
      "source": [
        "v_w6=voltage_df[voltage_df['id']=='W6']\n",
        "v_w6_phase1 = v_w6[v_w6[\"voltage_type\"]=='u1']\n",
        "v_w6_phase2 = v_w6[v_w6[\"voltage_type\"]==\"u2\"]\n",
        "v_w6_phase3 =v_w6[v_w6[\"voltage_type\"]==\"u3\"]"
      ],
      "metadata": {
        "id": "LE2MUx26tv8p"
      },
      "execution_count": 35,
      "outputs": []
    },
    {
      "cell_type": "code",
      "source": [
        "v_w6_phase1.drop(v_w6_phase1.filter(regex=\"Unname\"),axis=1, inplace=True)\n",
        "v_w6_phase2.drop(v_w6_phase2.filter(regex=\"Unname\"),axis=1, inplace=True)\n",
        "v_w6_phase3.drop(v_w6_phase3.filter(regex=\"Unname\"),axis=1, inplace=True)\n",
        "\n",
        "v_w6_phase1.drop([\"id\",\"voltage_type\",\"_id\"], axis=1,inplace=True)\n",
        "v_w6_phase2.drop([\"id\",\"voltage_type\",\"_id\"], axis=1,inplace=True)\n",
        "v_w6_phase3.drop([\"id\",\"voltage_type\",\"_id\"], axis=1,inplace=True)\n"
      ],
      "metadata": {
        "id": "CQMbnPOytv8p"
      },
      "execution_count": 36,
      "outputs": []
    },
    {
      "cell_type": "markdown",
      "source": [
        "#Processing our data into an easily editable and readable format\n"
      ],
      "metadata": {
        "id": "4D2iE-Mf7jDF"
      }
    },
    {
      "cell_type": "markdown",
      "source": [
        "## Creating a datetime index\n"
      ],
      "metadata": {
        "id": "jU4DXugkqRj9"
      }
    },
    {
      "cell_type": "markdown",
      "source": [
        "The rows of our dfs represent the date and the columns the time from 00 to 23:55, in 5-minutes intervals. We want to have all of our datetime data ( 5minute intervals for every day) at one column.\n"
      ],
      "metadata": {
        "id": "t0BK77YfhmTz"
      }
    },
    {
      "cell_type": "markdown",
      "source": [
        "###Using the stack function"
      ],
      "metadata": {
        "id": "tvd2i_Q65jSs"
      }
    },
    {
      "cell_type": "markdown",
      "source": [
        "For this we use the \"stack\" function. Setting \"date\" column as index in order to apply the .stack function. By this we stack level 1 from columns to index. With the parameter \"dropna = False \" we keep the Nan values."
      ],
      "metadata": {
        "id": "iZVjvXIz5qw7"
      }
    },
    {
      "cell_type": "markdown",
      "source": [
        "####Power Data"
      ],
      "metadata": {
        "id": "tHlPOtvFur5I"
      }
    },
    {
      "cell_type": "code",
      "source": [
        "power_w2_active=power_w2_active.set_index(\"date\")\n",
        "power_w2_reactive=power_w2_reactive.set_index(\"date\")\n",
        "power_w2_apparent=power_w2_apparent.set_index(\"date\")\n",
        "\n",
        "power_w2_active = power_w2_active.stack(dropna=False)\n",
        "power_w2_reactive = power_w2_reactive.stack(dropna=False)\n",
        "power_w2_apparent = power_w2_apparent.stack(dropna=False)\n"
      ],
      "metadata": {
        "id": "laYnhs4IiFQP"
      },
      "execution_count": 37,
      "outputs": []
    },
    {
      "cell_type": "code",
      "source": [
        "power_w3_active=power_w3_active.set_index(\"date\")\n",
        "power_w3_reactive=power_w3_reactive.set_index(\"date\")\n",
        "power_w3_apparent=power_w3_apparent.set_index(\"date\")\n",
        "\n",
        "power_w3_active = power_w3_active.stack(dropna=False)\n",
        "power_w3_reactive = power_w3_reactive.stack(dropna=False)\n",
        "power_w3_apparent = power_w3_apparent.stack(dropna=False)\n"
      ],
      "metadata": {
        "id": "HSf9muYbnOF6"
      },
      "execution_count": 38,
      "outputs": []
    },
    {
      "cell_type": "code",
      "source": [
        "power_w4_active=power_w4_active.set_index(\"date\")\n",
        "power_w4_reactive=power_w4_reactive.set_index(\"date\")\n",
        "power_w4_apparent=power_w4_apparent.set_index(\"date\")\n",
        "\n",
        "power_w4_active = power_w4_active.stack(dropna=False)\n",
        "power_w4_reactive = power_w4_reactive.stack(dropna=False)\n",
        "power_w4_apparent = power_w4_apparent.stack(dropna=False)\n"
      ],
      "metadata": {
        "id": "u-zP4iteoFIu"
      },
      "execution_count": 39,
      "outputs": []
    },
    {
      "cell_type": "code",
      "source": [
        "power_w5_active=power_w5_active.set_index(\"date\")\n",
        "power_w5_reactive=power_w5_reactive.set_index(\"date\")\n",
        "power_w5_apparent=power_w5_apparent.set_index(\"date\")\n",
        "\n",
        "power_w5_active = power_w5_active.stack(dropna=False)\n",
        "power_w5_reactive = power_w5_reactive.stack(dropna=False)\n",
        "power_w5_apparent = power_w5_apparent.stack(dropna=False)\n"
      ],
      "metadata": {
        "id": "Ri2I01E7oiR3"
      },
      "execution_count": 40,
      "outputs": []
    },
    {
      "cell_type": "code",
      "source": [
        "power_w6_active=power_w6_active.set_index(\"date\")\n",
        "power_w6_reactive=power_w6_reactive.set_index(\"date\")\n",
        "power_w6_apparent=power_w6_apparent.set_index(\"date\")\n",
        "\n",
        "power_w6_active = power_w6_active.stack(dropna=False)\n",
        "power_w6_reactive = power_w6_reactive.stack(dropna=False)\n",
        "power_w6_apparent = power_w6_apparent.stack(dropna=False)\n"
      ],
      "metadata": {
        "id": "awwiUb4opFQT"
      },
      "execution_count": 41,
      "outputs": []
    },
    {
      "cell_type": "markdown",
      "source": [
        "####Current Data"
      ],
      "metadata": {
        "id": "s2XPDG2IvqZw"
      }
    },
    {
      "cell_type": "code",
      "source": [
        "i_w2_phase1 = i_w2_phase1.set_index(\"date\")\n",
        "i_w2_phase2 = i_w2_phase2.set_index(\"date\")\n",
        "i_w2_phase3 = i_w2_phase3.set_index(\"date\")\n",
        "\n",
        "i_w2_phase1 = i_w2_phase1.stack(dropna=False)\n",
        "i_w2_phase2 = i_w2_phase2.stack(dropna=False)\n",
        "i_w2_phase3 = i_w2_phase3.stack(dropna=False)\n"
      ],
      "metadata": {
        "id": "gPQURm1qv4Ie"
      },
      "execution_count": 42,
      "outputs": []
    },
    {
      "cell_type": "code",
      "source": [
        "i_w3_phase1 = i_w3_phase1.set_index(\"date\")\n",
        "i_w3_phase2 = i_w3_phase2.set_index(\"date\")\n",
        "i_w3_phase3 = i_w3_phase3.set_index(\"date\")\n",
        "\n",
        "i_w3_phase1 = i_w3_phase1.stack(dropna=False)\n",
        "i_w3_phase2 = i_w3_phase2.stack(dropna=False)\n",
        "i_w3_phase3 = i_w3_phase3.stack(dropna=False)"
      ],
      "metadata": {
        "id": "GcYq3-ssv5NR"
      },
      "execution_count": 43,
      "outputs": []
    },
    {
      "cell_type": "code",
      "source": [
        "i_w4_phase1 = i_w4_phase1.set_index(\"date\")\n",
        "i_w4_phase2 = i_w4_phase2.set_index(\"date\")\n",
        "i_w4_phase3 = i_w4_phase3.set_index(\"date\")\n",
        "\n",
        "i_w4_phase1 = i_w4_phase1.stack(dropna=False)\n",
        "i_w4_phase2 = i_w4_phase2.stack(dropna=False)\n",
        "i_w4_phase3 = i_w4_phase3.stack(dropna=False)"
      ],
      "metadata": {
        "id": "Y0Zz7k4rv6lq"
      },
      "execution_count": 44,
      "outputs": []
    },
    {
      "cell_type": "code",
      "source": [
        "i_w5_phase1 = i_w5_phase1.set_index(\"date\")\n",
        "i_w5_phase2 = i_w5_phase2.set_index(\"date\")\n",
        "i_w5_phase3 = i_w5_phase3.set_index(\"date\")\n",
        "\n",
        "i_w5_phase1 = i_w5_phase1.stack(dropna=False)\n",
        "i_w5_phase2 = i_w5_phase2.stack(dropna=False)\n",
        "i_w5_phase3 = i_w5_phase3.stack(dropna=False)"
      ],
      "metadata": {
        "id": "9ovRlPQ4v8Am"
      },
      "execution_count": 45,
      "outputs": []
    },
    {
      "cell_type": "code",
      "source": [
        "i_w6_phase1 = i_w6_phase1.set_index(\"date\")\n",
        "i_w6_phase2 = i_w6_phase2.set_index(\"date\")\n",
        "i_w6_phase3 = i_w6_phase3.set_index(\"date\")\n",
        "\n",
        "i_w6_phase1 = i_w6_phase1.stack(dropna=False)\n",
        "i_w6_phase2 = i_w6_phase2.stack(dropna=False)\n",
        "i_w6_phase3 = i_w6_phase3.stack(dropna=False)"
      ],
      "metadata": {
        "id": "Cmo6Skdjv9Dv"
      },
      "execution_count": 46,
      "outputs": []
    },
    {
      "cell_type": "markdown",
      "source": [
        "####Voltage Data"
      ],
      "metadata": {
        "id": "8G4i_0IcvtUV"
      }
    },
    {
      "cell_type": "code",
      "source": [
        "v_w2_phase1 = v_w2_phase1.set_index(\"date\")\n",
        "v_w2_phase2 = v_w2_phase2.set_index(\"date\")\n",
        "v_w2_phase3 = v_w2_phase3.set_index(\"date\")\n",
        "\n",
        "v_w2_phase1 = v_w2_phase1.stack(dropna=False)\n",
        "v_w2_phase2 = v_w2_phase2.stack(dropna=False)\n",
        "v_w2_phase3 = v_w2_phase3.stack(dropna=False)"
      ],
      "metadata": {
        "id": "8bAB0TEhv_Ji"
      },
      "execution_count": 47,
      "outputs": []
    },
    {
      "cell_type": "code",
      "source": [
        "v_w3_phase1 = v_w3_phase1.set_index(\"date\")\n",
        "v_w3_phase2 = v_w3_phase2.set_index(\"date\")\n",
        "v_w3_phase3 = v_w3_phase3.set_index(\"date\")\n",
        "\n",
        "v_w3_phase1 = v_w3_phase1.stack(dropna=False)\n",
        "v_w3_phase2 = v_w3_phase2.stack(dropna=False)\n",
        "v_w3_phase3 = v_w3_phase3.stack(dropna=False)"
      ],
      "metadata": {
        "id": "hbJ0Wc_ewALU"
      },
      "execution_count": 48,
      "outputs": []
    },
    {
      "cell_type": "code",
      "source": [
        "v_w4_phase1 = v_w4_phase1.set_index(\"date\")\n",
        "v_w4_phase2 = v_w4_phase2.set_index(\"date\")\n",
        "v_w4_phase3 = v_w4_phase3.set_index(\"date\")\n",
        "\n",
        "v_w4_phase1 = v_w4_phase1.stack(dropna=False)\n",
        "v_w4_phase2 = v_w4_phase2.stack(dropna=False)\n",
        "v_w4_phase3 = v_w4_phase3.stack(dropna=False)"
      ],
      "metadata": {
        "id": "r4rwUa69wBuF"
      },
      "execution_count": 49,
      "outputs": []
    },
    {
      "cell_type": "code",
      "source": [
        "v_w5_phase1 = v_w5_phase1.set_index(\"date\")\n",
        "v_w5_phase2 = v_w5_phase2.set_index(\"date\")\n",
        "v_w5_phase3 = v_w5_phase3.set_index(\"date\")\n",
        "\n",
        "v_w5_phase1 = v_w5_phase1.stack(dropna=False)\n",
        "v_w5_phase2 = v_w5_phase2.stack(dropna=False)\n",
        "v_w5_phase3 = v_w5_phase3.stack(dropna=False)"
      ],
      "metadata": {
        "id": "BIqqhxBzwBwv"
      },
      "execution_count": 50,
      "outputs": []
    },
    {
      "cell_type": "code",
      "source": [
        "v_w6_phase1 = v_w6_phase1.set_index(\"date\")\n",
        "v_w6_phase2 = v_w6_phase2.set_index(\"date\")\n",
        "v_w6_phase3 = v_w6_phase3.set_index(\"date\")\n",
        "\n",
        "v_w6_phase1 = v_w6_phase1.stack(dropna=False)\n",
        "v_w6_phase2 = v_w6_phase2.stack(dropna=False)\n",
        "v_w6_phase3 = v_w6_phase3.stack(dropna=False)\n"
      ],
      "metadata": {
        "id": "h_XWNFaFwFMm"
      },
      "execution_count": 51,
      "outputs": []
    },
    {
      "cell_type": "markdown",
      "source": [
        "###Converting the resulted series to dataframe"
      ],
      "metadata": {
        "id": "mEACFkeE5zRU"
      }
    },
    {
      "cell_type": "markdown",
      "source": [
        "The result from the above stack function is of series type, so we convert them back to dataframes, as it is easier to work with them, and resetting the index"
      ],
      "metadata": {
        "id": "lGFKAcnPxDUV"
      }
    },
    {
      "cell_type": "markdown",
      "source": [
        "####Power Data\n"
      ],
      "metadata": {
        "id": "amWkoa_oxKhq"
      }
    },
    {
      "cell_type": "code",
      "source": [
        "power_w2_active=power_w2_active.to_frame()\n",
        "power_w2_reactive=power_w2_reactive.to_frame()\n",
        "power_w2_apparent=power_w2_apparent.to_frame()\n",
        "\n",
        "power_w2_active=power_w2_active.reset_index()\n",
        "power_w2_reactive=power_w2_reactive.reset_index()\n",
        "power_w2_apparent=power_w2_apparent.reset_index()"
      ],
      "metadata": {
        "id": "L5zOfOhpxhhM"
      },
      "execution_count": 52,
      "outputs": []
    },
    {
      "cell_type": "code",
      "source": [
        "power_w3_active=power_w3_active.to_frame()\n",
        "power_w3_reactive=power_w3_reactive.to_frame()\n",
        "power_w3_apparent=power_w3_apparent.to_frame()\n",
        "\n",
        "power_w3_active=power_w3_active.reset_index()\n",
        "power_w3_reactive=power_w3_reactive.reset_index()\n",
        "power_w3_apparent=power_w3_apparent.reset_index()\n"
      ],
      "metadata": {
        "id": "Y5gD8wPExiiT"
      },
      "execution_count": 53,
      "outputs": []
    },
    {
      "cell_type": "code",
      "source": [
        "power_w4_active=power_w4_active.to_frame()\n",
        "power_w4_reactive=power_w4_reactive.to_frame()\n",
        "power_w4_apparent=power_w4_apparent.to_frame()\n",
        "\n",
        "power_w4_active=power_w4_active.reset_index()\n",
        "power_w4_reactive=power_w4_reactive.reset_index()\n",
        "power_w4_apparent=power_w4_apparent.reset_index()"
      ],
      "metadata": {
        "id": "S5eH0ilexlUK"
      },
      "execution_count": 54,
      "outputs": []
    },
    {
      "cell_type": "code",
      "source": [
        "power_w5_active=power_w5_active.to_frame()\n",
        "power_w5_reactive=power_w5_reactive.to_frame()\n",
        "power_w5_apparent=power_w5_apparent.to_frame()\n",
        "power_w5_active=power_w5_active.reset_index()\n",
        "power_w5_reactive=power_w5_reactive.reset_index()\n",
        "power_w5_apparent=power_w5_apparent.reset_index()"
      ],
      "metadata": {
        "id": "VF5NL4Q6xmog"
      },
      "execution_count": 55,
      "outputs": []
    },
    {
      "cell_type": "code",
      "source": [
        "power_w6_active=power_w6_active.to_frame()\n",
        "power_w6_reactive=power_w6_reactive.to_frame()\n",
        "power_w6_apparent=power_w6_apparent.to_frame()\n",
        "power_w6_active=power_w6_active.reset_index()\n",
        "power_w6_reactive=power_w6_reactive.reset_index()\n",
        "power_w6_apparent=power_w6_apparent.reset_index()"
      ],
      "metadata": {
        "id": "h33Mye-0xpAc"
      },
      "execution_count": 56,
      "outputs": []
    },
    {
      "cell_type": "markdown",
      "source": [
        "#### Current Data"
      ],
      "metadata": {
        "id": "cBw0A2PrxrCl"
      }
    },
    {
      "cell_type": "code",
      "source": [
        "i_w2_phase1 = i_w2_phase1.to_frame()\n",
        "i_w2_phase2 = i_w2_phase2.to_frame()\n",
        "i_w2_phase3 = i_w2_phase3.to_frame()\n",
        "\n",
        "i_w2_phase1 = i_w2_phase1.reset_index()\n",
        "i_w2_phase2 = i_w2_phase2.reset_index()\n",
        "i_w2_phase3 = i_w2_phase3.reset_index()\n"
      ],
      "metadata": {
        "id": "q6h5xstTxs6t"
      },
      "execution_count": 57,
      "outputs": []
    },
    {
      "cell_type": "code",
      "source": [
        "i_w3_phase1 = i_w3_phase1.to_frame()\n",
        "i_w3_phase2 = i_w3_phase2.to_frame()\n",
        "i_w3_phase3 = i_w3_phase3.to_frame()\n",
        "\n",
        "i_w3_phase1 = i_w3_phase1.reset_index()\n",
        "i_w3_phase2 = i_w3_phase2.reset_index()\n",
        "i_w3_phase3 = i_w3_phase3.reset_index()"
      ],
      "metadata": {
        "id": "mnqmu2lvxt-0"
      },
      "execution_count": 58,
      "outputs": []
    },
    {
      "cell_type": "code",
      "source": [
        "i_w4_phase1 = i_w4_phase1.to_frame()\n",
        "i_w4_phase2 = i_w4_phase2.to_frame()\n",
        "i_w4_phase3 = i_w4_phase3.to_frame()\n",
        "\n",
        "i_w4_phase1 = i_w4_phase1.reset_index()\n",
        "i_w4_phase2 = i_w4_phase2.reset_index()\n",
        "i_w4_phase3 = i_w4_phase3.reset_index()"
      ],
      "metadata": {
        "id": "Kb_6Vl7UxvK6"
      },
      "execution_count": 59,
      "outputs": []
    },
    {
      "cell_type": "code",
      "source": [
        "i_w5_phase1 = i_w5_phase1.to_frame()\n",
        "i_w5_phase2 = i_w5_phase2.to_frame()\n",
        "i_w5_phase3 = i_w5_phase3.to_frame()\n",
        "\n",
        "i_w5_phase1 = i_w5_phase1.reset_index()\n",
        "i_w5_phase2 = i_w5_phase2.reset_index()\n",
        "i_w5_phase3 = i_w5_phase3.reset_index()"
      ],
      "metadata": {
        "id": "FMgEWvFmxxi2"
      },
      "execution_count": 60,
      "outputs": []
    },
    {
      "cell_type": "code",
      "source": [
        "i_w6_phase1 = i_w6_phase1.to_frame()\n",
        "i_w6_phase2 = i_w6_phase2.to_frame()\n",
        "i_w6_phase3 = i_w6_phase3.to_frame()\n",
        "\n",
        "i_w6_phase1 = i_w6_phase1.reset_index()\n",
        "i_w6_phase2 = i_w6_phase2.reset_index()\n",
        "i_w6_phase3 = i_w6_phase3.reset_index()"
      ],
      "metadata": {
        "id": "yQwVpZqkxyn3"
      },
      "execution_count": 61,
      "outputs": []
    },
    {
      "cell_type": "markdown",
      "source": [
        "#### Voltage Data\n"
      ],
      "metadata": {
        "id": "BqgwH05QxzzZ"
      }
    },
    {
      "cell_type": "code",
      "source": [
        "v_w2_phase1 = v_w2_phase1.to_frame()\n",
        "v_w2_phase2 = v_w2_phase2.to_frame()\n",
        "v_w2_phase3 = v_w2_phase3.to_frame()\n",
        "\n",
        "v_w2_phase1 = v_w2_phase1.reset_index()\n",
        "v_w2_phase2 = v_w2_phase2.reset_index()\n",
        "v_w2_phase3 = v_w2_phase3.reset_index()\n"
      ],
      "metadata": {
        "id": "ugJLnmgXx2QE"
      },
      "execution_count": 62,
      "outputs": []
    },
    {
      "cell_type": "code",
      "source": [
        "v_w3_phase1 = v_w3_phase1.to_frame()\n",
        "v_w3_phase2 = v_w3_phase2.to_frame()\n",
        "v_w3_phase3 = v_w3_phase3.to_frame()\n",
        "\n",
        "v_w3_phase1 = v_w3_phase1.reset_index()\n",
        "v_w3_phase2 = v_w3_phase2.reset_index()\n",
        "v_w3_phase3 = v_w3_phase3.reset_index()"
      ],
      "metadata": {
        "id": "NHf7Bq70x2l3"
      },
      "execution_count": 63,
      "outputs": []
    },
    {
      "cell_type": "code",
      "source": [
        "v_w4_phase1 = v_w4_phase1.to_frame()\n",
        "v_w4_phase2 = v_w4_phase2.to_frame()\n",
        "v_w4_phase3 = v_w4_phase3.to_frame()\n",
        "\n",
        "v_w4_phase1 = v_w4_phase1.reset_index()\n",
        "v_w4_phase2 = v_w4_phase2.reset_index()\n",
        "v_w4_phase3 = v_w4_phase3.reset_index()"
      ],
      "metadata": {
        "id": "6FgpkEqex5A3"
      },
      "execution_count": 64,
      "outputs": []
    },
    {
      "cell_type": "code",
      "source": [
        "v_w5_phase1 = v_w5_phase1.to_frame()\n",
        "v_w5_phase2 = v_w5_phase2.to_frame()\n",
        "v_w5_phase3 = v_w5_phase3.to_frame()\n",
        "\n",
        "v_w5_phase1 = v_w5_phase1.reset_index()\n",
        "v_w5_phase2 = v_w5_phase2.reset_index()\n",
        "v_w5_phase3 = v_w5_phase3.reset_index()"
      ],
      "metadata": {
        "id": "khV3h4yix7NV"
      },
      "execution_count": 65,
      "outputs": []
    },
    {
      "cell_type": "code",
      "source": [
        "v_w6_phase1 = v_w6_phase1.to_frame()\n",
        "v_w6_phase2 = v_w6_phase2.to_frame()\n",
        "v_w6_phase3 = v_w6_phase3.to_frame()\n",
        "\n",
        "v_w6_phase1 = v_w6_phase1.reset_index()\n",
        "v_w6_phase2 = v_w6_phase2.reset_index()\n",
        "v_w6_phase3 = v_w6_phase3.reset_index()"
      ],
      "metadata": {
        "id": "Y1ZjAxksx8aW"
      },
      "execution_count": 66,
      "outputs": []
    },
    {
      "cell_type": "markdown",
      "source": [
        "###Adding a datetime column"
      ],
      "metadata": {
        "id": "v6XoWhVl6A_t"
      }
    },
    {
      "cell_type": "markdown",
      "source": [
        "Now every dataframe has three columns, one named \"date\" containing the date of the measurement, one named \"level_1\" containing the time of the measurement and one \"0\" with the value of the measurement. \n",
        "\n",
        "We want to create one datetime column, so we combine the date and time column into one and drop then drop them, as they are no longer needed\n"
      ],
      "metadata": {
        "id": "49QTJCAHyGaY"
      }
    },
    {
      "cell_type": "markdown",
      "source": [
        "#### Power Data"
      ],
      "metadata": {
        "id": "FIFL2h6fyYyf"
      }
    },
    {
      "cell_type": "code",
      "source": [
        "power_w2_active['datetime']=pd.to_datetime(power_w2_active['date']+ \" \" + power_w2_active['level_1'])\n",
        "power_w2_reactive['datetime']=pd.to_datetime(power_w2_reactive['date']+ \" \" + power_w2_reactive['level_1'])\n",
        "power_w2_apparent['datetime']=pd.to_datetime(power_w2_apparent['date']+ \" \" + power_w2_apparent['level_1'])\n",
        "\n",
        "power_w2_active.drop([\"date\",\"level_1\"],axis=1,inplace=True)\n",
        "power_w2_reactive.drop([\"date\",\"level_1\"],axis=1,inplace=True)\n",
        "power_w2_apparent.drop([\"date\",\"level_1\"],axis=1,inplace=True)"
      ],
      "metadata": {
        "id": "bLgaVStkyeRT"
      },
      "execution_count": 67,
      "outputs": []
    },
    {
      "cell_type": "code",
      "source": [
        "power_w3_active['datetime']=pd.to_datetime(power_w3_active['date']+ \" \" + power_w3_active['level_1'])\n",
        "power_w3_reactive['datetime']=pd.to_datetime(power_w3_reactive['date']+ \" \" + power_w3_reactive['level_1'])\n",
        "power_w3_apparent['datetime']=pd.to_datetime(power_w3_apparent['date']+ \" \" + power_w3_apparent['level_1'])\n",
        "\n",
        "power_w3_active.drop([\"date\",\"level_1\"],axis=1,inplace=True)\n",
        "power_w3_reactive.drop([\"date\",\"level_1\"],axis=1,inplace=True)\n",
        "power_w3_apparent.drop([\"date\",\"level_1\"],axis=1,inplace=True)"
      ],
      "metadata": {
        "id": "JPxnWOGCyeiU"
      },
      "execution_count": 68,
      "outputs": []
    },
    {
      "cell_type": "code",
      "source": [
        "power_w4_active['datetime']=pd.to_datetime(power_w4_active['date']+ \" \" + power_w4_active['level_1'])\n",
        "power_w4_reactive['datetime']=pd.to_datetime(power_w4_reactive['date']+ \" \" + power_w4_reactive['level_1'])\n",
        "power_w4_apparent['datetime']=pd.to_datetime(power_w4_apparent['date']+ \" \" + power_w4_apparent['level_1'])\n",
        "\n",
        "power_w4_active.drop([\"date\",\"level_1\"],axis=1,inplace=True)\n",
        "power_w4_reactive.drop([\"date\",\"level_1\"],axis=1,inplace=True)\n",
        "power_w4_apparent.drop([\"date\",\"level_1\"],axis=1,inplace=True)"
      ],
      "metadata": {
        "id": "IKqn9sB3yhMw"
      },
      "execution_count": 69,
      "outputs": []
    },
    {
      "cell_type": "code",
      "source": [
        "power_w5_active['datetime']=pd.to_datetime(power_w5_active['date']+ \" \" + power_w5_active['level_1'])\n",
        "power_w5_reactive['datetime']=pd.to_datetime(power_w5_reactive['date']+ \" \" + power_w5_reactive['level_1'])\n",
        "power_w5_apparent['datetime']=pd.to_datetime(power_w5_apparent['date']+ \" \" + power_w5_apparent['level_1'])\n",
        "\n",
        "power_w5_active.drop([\"date\",\"level_1\"],axis=1,inplace=True)\n",
        "power_w5_reactive.drop([\"date\",\"level_1\"],axis=1,inplace=True)\n",
        "power_w5_apparent.drop([\"date\",\"level_1\"],axis=1,inplace=True)"
      ],
      "metadata": {
        "id": "JRqkJg8KyjKZ"
      },
      "execution_count": 70,
      "outputs": []
    },
    {
      "cell_type": "code",
      "source": [
        "power_w6_active['datetime']=pd.to_datetime(power_w6_active['date']+ \" \" + power_w6_active['level_1'])\n",
        "power_w6_reactive['datetime']=pd.to_datetime(power_w6_reactive['date']+ \" \" + power_w6_reactive['level_1'])\n",
        "power_w6_apparent['datetime']=pd.to_datetime(power_w6_apparent['date']+ \" \" + power_w6_apparent['level_1'])\n",
        "\n",
        "power_w6_active.drop([\"date\",\"level_1\"],axis=1,inplace=True)\n",
        "power_w6_reactive.drop([\"date\",\"level_1\"],axis=1,inplace=True)\n",
        "power_w6_apparent.drop([\"date\",\"level_1\"],axis=1,inplace=True)"
      ],
      "metadata": {
        "id": "Yqn6EC9Pyk1T"
      },
      "execution_count": 71,
      "outputs": []
    },
    {
      "cell_type": "markdown",
      "source": [
        "####Current Data"
      ],
      "metadata": {
        "id": "TIUQ2YlhysXL"
      }
    },
    {
      "cell_type": "code",
      "source": [
        "i_w2_phase1['datetime']=pd.to_datetime(i_w2_phase1['date']+ \" \" + i_w2_phase1['level_1'])\n",
        "i_w2_phase2['datetime']=pd.to_datetime(i_w2_phase2['date']+ \" \" + i_w2_phase2['level_1'])\n",
        "i_w2_phase3['datetime']=pd.to_datetime(i_w2_phase3['date']+ \" \" + i_w2_phase3['level_1'])\n",
        "\n",
        "i_w2_phase2.drop([\"date\",\"level_1\"],axis=1,inplace=True)\n",
        "i_w2_phase3.drop([\"date\",\"level_1\"],axis=1,inplace=True)\n",
        "i_w2_phase1.drop([\"date\",\"level_1\"],axis=1,inplace=True)"
      ],
      "metadata": {
        "id": "5jOzE5qDyuH3"
      },
      "execution_count": 72,
      "outputs": []
    },
    {
      "cell_type": "code",
      "source": [
        "i_w3_phase1['datetime']=pd.to_datetime(i_w3_phase1['date']+ \" \" + i_w3_phase1['level_1'])\n",
        "i_w3_phase2['datetime']=pd.to_datetime(i_w3_phase2['date']+ \" \" + i_w3_phase2['level_1'])\n",
        "i_w3_phase3['datetime']=pd.to_datetime(i_w3_phase3['date']+ \" \" + i_w3_phase3['level_1'])\n",
        "\n",
        "i_w3_phase2.drop([\"date\",\"level_1\"],axis=1,inplace=True)\n",
        "i_w3_phase3.drop([\"date\",\"level_1\"],axis=1,inplace=True)\n",
        "i_w3_phase1.drop([\"date\",\"level_1\"],axis=1,inplace=True)"
      ],
      "metadata": {
        "id": "x9KhKCMXyvoB"
      },
      "execution_count": 73,
      "outputs": []
    },
    {
      "cell_type": "code",
      "source": [
        "i_w4_phase1['datetime']=pd.to_datetime(i_w4_phase1['date']+ \" \" + i_w4_phase1['level_1'])\n",
        "i_w4_phase2['datetime']=pd.to_datetime(i_w4_phase2['date']+ \" \" + i_w4_phase2['level_1'])\n",
        "i_w4_phase3['datetime']=pd.to_datetime(i_w4_phase3['date']+ \" \" + i_w4_phase3['level_1'])\n",
        "\n",
        "i_w4_phase2.drop([\"date\",\"level_1\"],axis=1,inplace=True)\n",
        "i_w4_phase3.drop([\"date\",\"level_1\"],axis=1,inplace=True)\n",
        "i_w4_phase1.drop([\"date\",\"level_1\"],axis=1,inplace=True)"
      ],
      "metadata": {
        "id": "-aW1qNLtyvtk"
      },
      "execution_count": 74,
      "outputs": []
    },
    {
      "cell_type": "code",
      "source": [
        "i_w5_phase1['datetime']=pd.to_datetime(i_w5_phase1['date']+ \" \" + i_w5_phase1['level_1'])\n",
        "i_w5_phase2['datetime']=pd.to_datetime(i_w5_phase2['date']+ \" \" + i_w5_phase2['level_1'])\n",
        "i_w5_phase3['datetime']=pd.to_datetime(i_w5_phase3['date']+ \" \" + i_w5_phase3['level_1'])\n",
        "\n",
        "i_w5_phase2.drop([\"date\",\"level_1\"],axis=1,inplace=True)\n",
        "i_w5_phase3.drop([\"date\",\"level_1\"],axis=1,inplace=True)\n",
        "i_w5_phase1.drop([\"date\",\"level_1\"],axis=1,inplace=True)"
      ],
      "metadata": {
        "id": "en6gyt4_yyT3"
      },
      "execution_count": 75,
      "outputs": []
    },
    {
      "cell_type": "code",
      "source": [
        "\n",
        "i_w6_phase1['datetime']=pd.to_datetime(i_w6_phase1['date']+ \" \" + i_w6_phase1['level_1'])\n",
        "i_w6_phase2['datetime']=pd.to_datetime(i_w6_phase2['date']+ \" \" + i_w6_phase2['level_1'])\n",
        "i_w6_phase3['datetime']=pd.to_datetime(i_w6_phase3['date']+ \" \" + i_w6_phase3['level_1'])\n",
        "\n",
        "i_w6_phase2.drop([\"date\",\"level_1\"],axis=1,inplace=True)\n",
        "i_w6_phase3.drop([\"date\",\"level_1\"],axis=1,inplace=True)\n",
        "i_w6_phase1.drop([\"date\",\"level_1\"],axis=1,inplace=True)\n"
      ],
      "metadata": {
        "id": "UBWYVvTYyW3E"
      },
      "execution_count": 76,
      "outputs": []
    },
    {
      "cell_type": "markdown",
      "source": [
        "####Voltage Data"
      ],
      "metadata": {
        "id": "sd74zVScy1cJ"
      }
    },
    {
      "cell_type": "code",
      "source": [
        "v_w2_phase1['datetime']=pd.to_datetime(v_w2_phase1['date']+ \" \" + v_w2_phase1['level_1'])\n",
        "v_w2_phase2['datetime']=pd.to_datetime(v_w2_phase2['date']+ \" \" + v_w2_phase2['level_1'])\n",
        "v_w2_phase3['datetime']=pd.to_datetime(v_w2_phase3['date']+ \" \" + v_w2_phase3['level_1'])\n",
        "\n",
        "v_w2_phase2.drop([\"date\",\"level_1\"],axis=1,inplace=True)\n",
        "v_w2_phase3.drop([\"date\",\"level_1\"],axis=1,inplace=True)\n",
        "v_w2_phase1.drop([\"date\",\"level_1\"],axis=1,inplace=True)"
      ],
      "metadata": {
        "id": "nywmGLMZy56y"
      },
      "execution_count": 77,
      "outputs": []
    },
    {
      "cell_type": "code",
      "source": [
        "v_w3_phase1['datetime']=pd.to_datetime(v_w3_phase1['date']+ \" \" + v_w3_phase1['level_1'])\n",
        "v_w3_phase2['datetime']=pd.to_datetime(v_w3_phase2['date']+ \" \" + v_w3_phase2['level_1'])\n",
        "v_w3_phase3['datetime']=pd.to_datetime(v_w3_phase3['date']+ \" \" + v_w3_phase3['level_1'])\n",
        "\n",
        "v_w3_phase2.drop([\"date\",\"level_1\"],axis=1,inplace=True)\n",
        "v_w3_phase3.drop([\"date\",\"level_1\"],axis=1,inplace=True)\n",
        "v_w3_phase1.drop([\"date\",\"level_1\"],axis=1,inplace=True)"
      ],
      "metadata": {
        "id": "9WJPgtA8y7Ox"
      },
      "execution_count": 78,
      "outputs": []
    },
    {
      "cell_type": "code",
      "source": [
        "v_w4_phase1['datetime']=pd.to_datetime(v_w4_phase1['date']+ \" \" + v_w4_phase1['level_1'])\n",
        "v_w4_phase2['datetime']=pd.to_datetime(v_w4_phase2['date']+ \" \" + v_w4_phase2['level_1'])\n",
        "v_w4_phase3['datetime']=pd.to_datetime(v_w4_phase3['date']+ \" \" + v_w4_phase3['level_1'])\n",
        "\n",
        "v_w4_phase2.drop([\"date\",\"level_1\"],axis=1,inplace=True)\n",
        "v_w4_phase3.drop([\"date\",\"level_1\"],axis=1,inplace=True)\n",
        "v_w4_phase1.drop([\"date\",\"level_1\"],axis=1,inplace=True)"
      ],
      "metadata": {
        "id": "z1K0RBdQy8u6"
      },
      "execution_count": 79,
      "outputs": []
    },
    {
      "cell_type": "code",
      "source": [
        "v_w5_phase1['datetime']=pd.to_datetime(v_w5_phase1['date']+ \" \" + v_w5_phase1['level_1'])\n",
        "v_w5_phase2['datetime']=pd.to_datetime(v_w5_phase2['date']+ \" \" + v_w5_phase2['level_1'])\n",
        "v_w5_phase3['datetime']=pd.to_datetime(v_w5_phase3['date']+ \" \" + v_w5_phase3['level_1'])\n",
        "\n",
        "v_w5_phase2.drop([\"date\",\"level_1\"],axis=1,inplace=True)\n",
        "v_w5_phase3.drop([\"date\",\"level_1\"],axis=1,inplace=True)\n",
        "v_w5_phase1.drop([\"date\",\"level_1\"],axis=1,inplace=True)"
      ],
      "metadata": {
        "id": "DV6swtxny-Bp"
      },
      "execution_count": 80,
      "outputs": []
    },
    {
      "cell_type": "code",
      "source": [
        "v_w6_phase1['datetime']=pd.to_datetime(v_w6_phase1['date']+ \" \" + v_w6_phase1['level_1'])\n",
        "v_w6_phase2['datetime']=pd.to_datetime(v_w6_phase2['date']+ \" \" + v_w6_phase2['level_1'])\n",
        "v_w6_phase3['datetime']=pd.to_datetime(v_w6_phase3['date']+ \" \" + v_w6_phase3['level_1'])\n",
        "\n",
        "v_w6_phase2.drop([\"date\",\"level_1\"],axis=1,inplace=True)\n",
        "v_w6_phase3.drop([\"date\",\"level_1\"],axis=1,inplace=True)\n",
        "v_w6_phase1.drop([\"date\",\"level_1\"],axis=1,inplace=True)"
      ],
      "metadata": {
        "id": "1WxUfcOoy_1t"
      },
      "execution_count": 81,
      "outputs": []
    },
    {
      "cell_type": "markdown",
      "source": [
        "###Setting the datetime index\n"
      ],
      "metadata": {
        "id": "2CzdJAwsjfrv"
      }
    },
    {
      "cell_type": "markdown",
      "source": [
        "We will set the datetime column we just created as index of our dataframes."
      ],
      "metadata": {
        "id": "o2OZAmCm6Sbf"
      }
    },
    {
      "cell_type": "markdown",
      "source": [
        "####Power Data\n"
      ],
      "metadata": {
        "id": "hWZDqHBq1a7q"
      }
    },
    {
      "cell_type": "code",
      "source": [
        "power_w2_active = power_w2_active.set_index(['datetime'])\n",
        "power_w2_reactive = power_w2_reactive.set_index(['datetime'])\n",
        "power_w2_apparent = power_w2_apparent.set_index(['datetime'])"
      ],
      "metadata": {
        "id": "S85oN94T1k9r"
      },
      "execution_count": 82,
      "outputs": []
    },
    {
      "cell_type": "code",
      "source": [
        "power_w3_active = power_w3_active.set_index(['datetime'])\n",
        "power_w3_reactive = power_w3_reactive.set_index(['datetime'])\n",
        "power_w3_apparent = power_w3_apparent.set_index(['datetime'])"
      ],
      "metadata": {
        "id": "pudnLmft1mJh"
      },
      "execution_count": 83,
      "outputs": []
    },
    {
      "cell_type": "code",
      "source": [
        "power_w4_active = power_w4_active.set_index(['datetime'])\n",
        "power_w4_reactive = power_w4_reactive.set_index(['datetime'])\n",
        "power_w4_apparent = power_w4_apparent.set_index(['datetime'])"
      ],
      "metadata": {
        "id": "f_pkM05Z1nNe"
      },
      "execution_count": 84,
      "outputs": []
    },
    {
      "cell_type": "code",
      "source": [
        "power_w5_active = power_w5_active.set_index(['datetime'])\n",
        "power_w5_reactive = power_w5_reactive.set_index(['datetime'])\n",
        "power_w5_apparent = power_w5_apparent.set_index(['datetime'])"
      ],
      "metadata": {
        "id": "qSZWsJfQ1ohQ"
      },
      "execution_count": 85,
      "outputs": []
    },
    {
      "cell_type": "code",
      "source": [
        "power_w6_active = power_w6_active.set_index(['datetime'])\n",
        "power_w6_reactive = power_w6_reactive.set_index(['datetime'])\n",
        "power_w6_apparent = power_w6_apparent.set_index(['datetime'])"
      ],
      "metadata": {
        "id": "S3X9ihcJ1pmH"
      },
      "execution_count": 86,
      "outputs": []
    },
    {
      "cell_type": "markdown",
      "source": [
        "####Current Data"
      ],
      "metadata": {
        "id": "m4A29wmG1d0Z"
      }
    },
    {
      "cell_type": "code",
      "source": [
        "i_w2_phase1 = i_w2_phase1.set_index(['datetime'])\n",
        "i_w2_phase2 = i_w2_phase2.set_index(['datetime'])\n",
        "i_w2_phase3 = i_w2_phase3.set_index(['datetime'])"
      ],
      "metadata": {
        "id": "8OB4Evf01rAE"
      },
      "execution_count": 87,
      "outputs": []
    },
    {
      "cell_type": "code",
      "source": [
        "i_w3_phase1 = i_w3_phase1.set_index(['datetime'])\n",
        "i_w3_phase2 = i_w3_phase2.set_index(['datetime'])\n",
        "i_w3_phase3 = i_w3_phase3.set_index(['datetime'])"
      ],
      "metadata": {
        "id": "_sU40H3C1r-C"
      },
      "execution_count": 88,
      "outputs": []
    },
    {
      "cell_type": "code",
      "source": [
        "i_w4_phase1 = i_w4_phase1.set_index(['datetime'])\n",
        "i_w4_phase2 = i_w4_phase2.set_index(['datetime'])\n",
        "i_w4_phase3 = i_w4_phase3.set_index(['datetime'])"
      ],
      "metadata": {
        "id": "Ty5F2vs01s7b"
      },
      "execution_count": 89,
      "outputs": []
    },
    {
      "cell_type": "code",
      "source": [
        "i_w5_phase1 = i_w5_phase1.set_index(['datetime'])\n",
        "i_w5_phase2 = i_w5_phase2.set_index(['datetime'])\n",
        "i_w5_phase3 = i_w5_phase3.set_index(['datetime'])"
      ],
      "metadata": {
        "id": "mvct4ap_1t8a"
      },
      "execution_count": 90,
      "outputs": []
    },
    {
      "cell_type": "code",
      "source": [
        "i_w6_phase1 = i_w6_phase1.set_index(['datetime'])\n",
        "i_w6_phase2 = i_w6_phase2.set_index(['datetime'])\n",
        "i_w6_phase3 = i_w6_phase3.set_index(['datetime'])\n"
      ],
      "metadata": {
        "id": "XRNovxYb1g7H"
      },
      "execution_count": 91,
      "outputs": []
    },
    {
      "cell_type": "markdown",
      "source": [
        "#### Voltage Data\n"
      ],
      "metadata": {
        "id": "-RCuW-uG1igS"
      }
    },
    {
      "cell_type": "code",
      "source": [
        "v_w2_phase1 = v_w2_phase1.set_index(['datetime'])\n",
        "v_w2_phase2 = v_w2_phase2.set_index(['datetime'])\n",
        "v_w2_phase3 = v_w2_phase3.set_index(['datetime'])"
      ],
      "metadata": {
        "id": "ZxFJewVR1xeN"
      },
      "execution_count": 92,
      "outputs": []
    },
    {
      "cell_type": "code",
      "source": [
        "v_w3_phase1 = v_w3_phase1.set_index(['datetime'])\n",
        "v_w3_phase2 = v_w3_phase2.set_index(['datetime'])\n",
        "v_w3_phase3 = v_w3_phase3.set_index(['datetime'])"
      ],
      "metadata": {
        "id": "8QfxADXP1yiy"
      },
      "execution_count": 93,
      "outputs": []
    },
    {
      "cell_type": "code",
      "source": [
        "v_w4_phase1 = v_w4_phase1.set_index(['datetime'])\n",
        "v_w4_phase2 = v_w4_phase2.set_index(['datetime'])\n",
        "v_w4_phase3 = v_w4_phase3.set_index(['datetime'])"
      ],
      "metadata": {
        "id": "L1V0hcDV1zd5"
      },
      "execution_count": 94,
      "outputs": []
    },
    {
      "cell_type": "code",
      "source": [
        "v_w5_phase1 = v_w5_phase1.set_index(['datetime'])\n",
        "v_w5_phase2 = v_w5_phase2.set_index(['datetime'])\n",
        "v_w5_phase3 = v_w5_phase3.set_index(['datetime'])"
      ],
      "metadata": {
        "id": "S5dXMOkJ10cX"
      },
      "execution_count": 95,
      "outputs": []
    },
    {
      "cell_type": "code",
      "execution_count": 96,
      "metadata": {
        "id": "H7bslaCiIYI-"
      },
      "outputs": [],
      "source": [
        "v_w6_phase1 = v_w6_phase1.set_index(['datetime'])\n",
        "v_w6_phase2 = v_w6_phase2.set_index(['datetime'])\n",
        "v_w6_phase3 = v_w6_phase3.set_index(['datetime'])\n"
      ]
    },
    {
      "cell_type": "markdown",
      "source": [
        "##Renaming dataframes' columns"
      ],
      "metadata": {
        "id": "ScHfg5z70X5q"
      }
    },
    {
      "cell_type": "markdown",
      "source": [
        "Renaming the last column \"0\" which contains the value of the measurement  as to describe it properly"
      ],
      "metadata": {
        "id": "Nm2l9lNr0X5r"
      }
    },
    {
      "cell_type": "markdown",
      "source": [
        "####Power Data\n"
      ],
      "metadata": {
        "id": "McXi6Xx10ZAW"
      }
    },
    {
      "cell_type": "code",
      "source": [
        "power_w2_active=power_w2_active.rename(columns={0:\"positive_active\"})\n",
        "power_w2_reactive=power_w2_reactive.rename(columns={0:\"positive_reactive\"})\n",
        "power_w2_apparent=power_w2_apparent.rename(columns={0:\"apparent\"})"
      ],
      "metadata": {
        "id": "2vYY_4yE0lAI"
      },
      "execution_count": 97,
      "outputs": []
    },
    {
      "cell_type": "code",
      "source": [
        "power_w3_active=power_w3_active.rename(columns={0:\"positive_active\"})\n",
        "power_w3_reactive=power_w3_reactive.rename(columns={0:\"positive_reactive\"})\n",
        "power_w3_apparent=power_w3_apparent.rename(columns={0:\"apparent\"})"
      ],
      "metadata": {
        "id": "wKJW5rvC0mKA"
      },
      "execution_count": 98,
      "outputs": []
    },
    {
      "cell_type": "code",
      "source": [
        "power_w4_active=power_w4_active.rename(columns={0:\"positive_active\"})\n",
        "power_w4_reactive=power_w4_reactive.rename(columns={0:\"positive_reactive\"})\n",
        "power_w4_apparent=power_w4_apparent.rename(columns={0:\"apparent\"})"
      ],
      "metadata": {
        "id": "kxx3ZIbt0nSk"
      },
      "execution_count": 99,
      "outputs": []
    },
    {
      "cell_type": "code",
      "source": [
        "power_w5_active=power_w5_active.rename(columns={0:\"positive_active\"})\n",
        "power_w5_reactive=power_w5_reactive.rename(columns={0:\"positive_reactive\"})\n",
        "power_w5_apparent=power_w5_apparent.rename(columns={0:\"apparent\"})"
      ],
      "metadata": {
        "id": "jJehyYm80odd"
      },
      "execution_count": 100,
      "outputs": []
    },
    {
      "cell_type": "code",
      "source": [
        "power_w6_active=power_w6_active.rename(columns={0:\"positive_active\"})\n",
        "power_w6_reactive=power_w6_reactive.rename(columns={0:\"positive_reactive\"})\n",
        "power_w6_apparent=power_w6_apparent.rename(columns={0:\"apparent\"})"
      ],
      "metadata": {
        "id": "VSffMRwR0p5Q"
      },
      "execution_count": 101,
      "outputs": []
    },
    {
      "cell_type": "markdown",
      "source": [
        "#### Current Data"
      ],
      "metadata": {
        "id": "NgozPmGG0cjl"
      }
    },
    {
      "cell_type": "code",
      "source": [
        "i_w2_phase1=i_w2_phase1.rename(columns={0:\"w2_phase1\"})\n",
        "i_w2_phase2=i_w2_phase2.rename(columns={0:\"w2_phase2\"})\n",
        "i_w2_phase3=i_w2_phase3.rename(columns={0:\"w2_phase3\"})"
      ],
      "metadata": {
        "id": "O8EGb-ui0rw_"
      },
      "execution_count": 102,
      "outputs": []
    },
    {
      "cell_type": "code",
      "source": [
        "i_w3_phase1=i_w3_phase1.rename(columns={0:\"w3_phase1\"})\n",
        "i_w3_phase2=i_w3_phase2.rename(columns={0:\"w3_phase2\"})\n",
        "i_w3_phase3=i_w3_phase3.rename(columns={0:\"w3_phase3\"})"
      ],
      "metadata": {
        "id": "vDc9UJcD0s6E"
      },
      "execution_count": 103,
      "outputs": []
    },
    {
      "cell_type": "code",
      "source": [
        "i_w4_phase1=i_w4_phase1.rename(columns={0:\"w4_phase1\"})\n",
        "i_w4_phase2=i_w4_phase2.rename(columns={0:\"w4_phase2\"})\n",
        "i_w4_phase3=i_w4_phase3.rename(columns={0:\"w4_phase3\"})"
      ],
      "metadata": {
        "id": "2Z5VV0wz0uDs"
      },
      "execution_count": 104,
      "outputs": []
    },
    {
      "cell_type": "code",
      "source": [
        "i_w5_phase1=i_w5_phase1.rename(columns={0:\"w5_phase1\"})\n",
        "i_w5_phase2=i_w5_phase2.rename(columns={0:\"w5_phase2\"})\n",
        "i_w5_phase3=i_w5_phase3.rename(columns={0:\"w5_phase3\"})"
      ],
      "metadata": {
        "id": "qTmrmq0P0vaD"
      },
      "execution_count": 105,
      "outputs": []
    },
    {
      "cell_type": "code",
      "source": [
        "i_w6_phase1=i_w6_phase1.rename(columns={0:\"w6_phase1\"})\n",
        "i_w6_phase2=i_w6_phase2.rename(columns={0:\"w6_phase2\"})\n",
        "i_w6_phase3=i_w6_phase3.rename(columns={0:\"w6_phase3\"})\n"
      ],
      "metadata": {
        "id": "_rcBAJ6A0xb_"
      },
      "execution_count": 106,
      "outputs": []
    },
    {
      "cell_type": "markdown",
      "source": [
        "####Voltage Data\n"
      ],
      "metadata": {
        "id": "4k-iDQH50gj8"
      }
    },
    {
      "cell_type": "code",
      "source": [
        "v_w2_phase1=v_w2_phase1.rename(columns={0:\"w2_u1\"})\n",
        "v_w2_phase2=v_w2_phase2.rename(columns={0:\"w2_u2\"})\n",
        "v_w2_phase3=v_w2_phase3.rename(columns={0:\"w2_u3\"})"
      ],
      "metadata": {
        "id": "EvId86QA0i3E"
      },
      "execution_count": 107,
      "outputs": []
    },
    {
      "cell_type": "code",
      "source": [
        "v_w3_phase1=v_w3_phase1.rename(columns={0:\"w3_u1\"})\n",
        "v_w3_phase2=v_w3_phase2.rename(columns={0:\"w3_u2\"})\n",
        "v_w3_phase3=v_w3_phase3.rename(columns={0:\"w3_u3\"})"
      ],
      "metadata": {
        "id": "eVopoCli01VH"
      },
      "execution_count": 108,
      "outputs": []
    },
    {
      "cell_type": "code",
      "source": [
        "v_w4_phase1=v_w4_phase1.rename(columns={0:\"w4_u1\"})\n",
        "v_w4_phase2=v_w4_phase2.rename(columns={0:\"w4_u2\"})\n",
        "v_w4_phase3=v_w4_phase3.rename(columns={0:\"w4_u3\"})"
      ],
      "metadata": {
        "id": "uqAj9wB302al"
      },
      "execution_count": 109,
      "outputs": []
    },
    {
      "cell_type": "code",
      "source": [
        "v_w5_phase1=v_w5_phase1.rename(columns={0:\"w5_u1\"})\n",
        "v_w5_phase2=v_w5_phase2.rename(columns={0:\"w5_u2\"})\n",
        "v_w5_phase3=v_w5_phase3.rename(columns={0:\"w5_u3\"})"
      ],
      "metadata": {
        "id": "bpJGrL_503xx"
      },
      "execution_count": 110,
      "outputs": []
    },
    {
      "cell_type": "code",
      "source": [
        "v_w6_phase1=v_w6_phase1.rename(columns={0:\"w6_u1\"})\n",
        "v_w6_phase2=v_w6_phase2.rename(columns={0:\"w6_u2\"})\n",
        "v_w6_phase3=v_w6_phase3.rename(columns={0:\"w6_u3\"})"
      ],
      "metadata": {
        "id": "meL-ahzl04-d"
      },
      "execution_count": 111,
      "outputs": []
    },
    {
      "cell_type": "markdown",
      "source": [
        "## Dropping duplicate values"
      ],
      "metadata": {
        "id": "A7H7_hy_2Brh"
      }
    },
    {
      "cell_type": "markdown",
      "metadata": {
        "id": "i8zYTLBa2Brh"
      },
      "source": [
        "Dropping duplicate values, by keeping the last of them, as we have seen that an extra value (1) has been inserted at several entries, probably by stacking, prior to the actual value"
      ]
    },
    {
      "cell_type": "code",
      "execution_count": null,
      "metadata": {
        "id": "z9KGBKks2U0C"
      },
      "outputs": [],
      "source": [
        "power_w6_active[power_w6_active.duplicated()==True]\n",
        "\n",
        "power_w6_active[\"2021-08-25 00:00:00\t\"]"
      ]
    },
    {
      "cell_type": "markdown",
      "source": [
        "####Power Data\n"
      ],
      "metadata": {
        "id": "K8eeOCCR2Dj3"
      }
    },
    {
      "cell_type": "code",
      "source": [
        "power_w2_active = power_w2_active.loc[~power_w2_active.index.duplicated(keep='last')]\n",
        "power_w2_reactive = power_w2_reactive.loc[~power_w2_reactive.index.duplicated(keep='last')]\n",
        "power_w2_apparent = power_w2_apparent.loc[~power_w2_apparent.index.duplicated(keep='last')]"
      ],
      "metadata": {
        "id": "RKbQ2GyB2MuK"
      },
      "execution_count": 113,
      "outputs": []
    },
    {
      "cell_type": "code",
      "source": [
        "power_w3_active = power_w3_active.loc[~power_w3_active.index.duplicated(keep='last')]\n",
        "power_w3_reactive = power_w3_reactive.loc[~power_w3_reactive.index.duplicated(keep='last')]\n",
        "power_w3_apparent = power_w3_apparent.loc[~power_w3_apparent.index.duplicated(keep='last')]"
      ],
      "metadata": {
        "id": "l10UeC1n2XPV"
      },
      "execution_count": 114,
      "outputs": []
    },
    {
      "cell_type": "code",
      "source": [
        "power_w4_active = power_w4_active.loc[~power_w4_active.index.duplicated(keep='last')]\n",
        "power_w4_reactive = power_w4_reactive.loc[~power_w4_reactive.index.duplicated(keep='last')]\n",
        "power_w4_apparent = power_w4_apparent.loc[~power_w4_apparent.index.duplicated(keep='last')]"
      ],
      "metadata": {
        "id": "9HuVXG5n2YgL"
      },
      "execution_count": 115,
      "outputs": []
    },
    {
      "cell_type": "code",
      "source": [
        "power_w5_active = power_w5_active.loc[~power_w5_active.index.duplicated(keep='last')]\n",
        "power_w5_reactive = power_w5_reactive.loc[~power_w5_reactive.index.duplicated(keep='last')]\n",
        "power_w5_apparent = power_w5_apparent.loc[~power_w5_apparent.index.duplicated(keep='last')]"
      ],
      "metadata": {
        "id": "BlCX_F002Zpq"
      },
      "execution_count": 116,
      "outputs": []
    },
    {
      "cell_type": "code",
      "source": [
        "power_w6_active = power_w6_active.loc[~power_w6_active.index.duplicated(keep='last')]\n",
        "power_w6_reactive = power_w6_reactive.loc[~power_w6_reactive.index.duplicated(keep='last')]\n",
        "power_w6_apparent = power_w6_apparent.loc[~power_w6_apparent.index.duplicated(keep='last')]"
      ],
      "metadata": {
        "id": "Ri4GbIvd2bCE"
      },
      "execution_count": 117,
      "outputs": []
    },
    {
      "cell_type": "markdown",
      "source": [
        "####Current Data"
      ],
      "metadata": {
        "id": "JyYW-a-q2G1g"
      }
    },
    {
      "cell_type": "code",
      "source": [
        "i_w2_phase1 = i_w2_phase1.loc[~i_w2_phase1.index.duplicated(keep='last')]\n",
        "i_w2_phase2 = i_w2_phase2.loc[~i_w2_phase2.index.duplicated(keep='last')]\n",
        "i_w2_phase3 = i_w2_phase3.loc[~i_w2_phase3.index.duplicated(keep='last')]"
      ],
      "metadata": {
        "id": "jSBkaiI22c7p"
      },
      "execution_count": 118,
      "outputs": []
    },
    {
      "cell_type": "code",
      "source": [
        "i_w3_phase1 = i_w3_phase1.loc[~i_w3_phase1.index.duplicated(keep='last')]\n",
        "i_w3_phase2 = i_w3_phase2.loc[~i_w3_phase2.index.duplicated(keep='last')]\n",
        "i_w3_phase3 = i_w3_phase3.loc[~i_w3_phase3.index.duplicated(keep='last')]"
      ],
      "metadata": {
        "id": "U-YiLfO42d-z"
      },
      "execution_count": 119,
      "outputs": []
    },
    {
      "cell_type": "code",
      "source": [
        "i_w4_phase1 = i_w4_phase1.loc[~i_w4_phase1.index.duplicated(keep='last')]\n",
        "i_w4_phase2 = i_w4_phase2.loc[~i_w4_phase2.index.duplicated(keep='last')]\n",
        "i_w4_phase3 = i_w4_phase3.loc[~i_w4_phase3.index.duplicated(keep='last')]"
      ],
      "metadata": {
        "id": "khDMVcpZ2fLD"
      },
      "execution_count": 120,
      "outputs": []
    },
    {
      "cell_type": "code",
      "source": [
        "i_w5_phase1 = i_w5_phase1.loc[~i_w5_phase1.index.duplicated(keep='last')]\n",
        "i_w5_phase2 = i_w5_phase2.loc[~i_w5_phase2.index.duplicated(keep='last')]\n",
        "i_w5_phase3 = i_w5_phase3.loc[~i_w5_phase3.index.duplicated(keep='last')]"
      ],
      "metadata": {
        "id": "QSpYjq5F2gHV"
      },
      "execution_count": 121,
      "outputs": []
    },
    {
      "cell_type": "code",
      "source": [
        "i_w6_phase1 = i_w6_phase1.loc[~i_w6_phase1.index.duplicated(keep='last')]\n",
        "i_w6_phase2 = i_w6_phase2.loc[~i_w6_phase2.index.duplicated(keep='last')]\n",
        "i_w6_phase3 = i_w6_phase3.loc[~i_w6_phase3.index.duplicated(keep='last')]\n"
      ],
      "metadata": {
        "id": "DZSdow2B2IUm"
      },
      "execution_count": 122,
      "outputs": []
    },
    {
      "cell_type": "markdown",
      "source": [
        "#### Voltage Data"
      ],
      "metadata": {
        "id": "3SuMEbvY2J6g"
      }
    },
    {
      "cell_type": "code",
      "source": [
        "v_w2_phase1 = v_w2_phase1.loc[~v_w2_phase1.index.duplicated(keep='last')]\n",
        "v_w2_phase2 = v_w2_phase2.loc[~v_w2_phase2.index.duplicated(keep='last')]\n",
        "v_w2_phase3 = v_w2_phase3.loc[~v_w2_phase3.index.duplicated(keep='last')]"
      ],
      "metadata": {
        "id": "3hMYZj0E2ijk"
      },
      "execution_count": 123,
      "outputs": []
    },
    {
      "cell_type": "code",
      "source": [
        "v_w3_phase1 = v_w3_phase1.loc[~v_w3_phase1.index.duplicated(keep='last')]\n",
        "v_w3_phase2 = v_w3_phase2.loc[~v_w3_phase2.index.duplicated(keep='last')]\n",
        "v_w3_phase3 = v_w3_phase3.loc[~v_w3_phase3.index.duplicated(keep='last')]"
      ],
      "metadata": {
        "id": "45CoRgJh2jl1"
      },
      "execution_count": 124,
      "outputs": []
    },
    {
      "cell_type": "code",
      "source": [
        "v_w4_phase1 = v_w4_phase1.loc[~v_w4_phase1.index.duplicated(keep='last')]\n",
        "v_w4_phase2 = v_w4_phase2.loc[~v_w4_phase2.index.duplicated(keep='last')]\n",
        "v_w4_phase3 = v_w4_phase3.loc[~v_w4_phase3.index.duplicated(keep='last')]"
      ],
      "metadata": {
        "id": "5qNHeV262knn"
      },
      "execution_count": 125,
      "outputs": []
    },
    {
      "cell_type": "code",
      "source": [
        "v_w5_phase1 = v_w5_phase1.loc[~v_w5_phase1.index.duplicated(keep='last')]\n",
        "v_w5_phase2 = v_w5_phase2.loc[~v_w5_phase2.index.duplicated(keep='last')]\n",
        "v_w5_phase3 = v_w5_phase3.loc[~v_w5_phase3.index.duplicated(keep='last')]"
      ],
      "metadata": {
        "id": "DWALKn_i2lxT"
      },
      "execution_count": 126,
      "outputs": []
    },
    {
      "cell_type": "code",
      "execution_count": 127,
      "metadata": {
        "id": "cYmUanDh2Bri"
      },
      "outputs": [],
      "source": [
        "v_w6_phase1 = v_w6_phase1.loc[~v_w6_phase1.index.duplicated(keep='last')]\n",
        "v_w6_phase2 = v_w6_phase2.loc[~v_w6_phase2.index.duplicated(keep='last')]\n",
        "v_w6_phase3 = v_w6_phase3.loc[~v_w6_phase3.index.duplicated(keep='last')]\n"
      ]
    },
    {
      "cell_type": "markdown",
      "source": [
        "##Setting the frequency of the datetime index"
      ],
      "metadata": {
        "id": "unmR3WPY21rp"
      }
    },
    {
      "cell_type": "markdown",
      "metadata": {
        "id": "qMTxxQpE21rq"
      },
      "source": [
        "We want the datetime index of the df to have frequency, but some dates are missing. \n",
        "By applying fill_missing_dates function to every meter's dataframes we basically reindex our dataframes so as it starts from the given start date ( here '2021-07-01 00:00:00') and end to the current datetime, with its value separated from the next with 5-minutes intervals. Any missing date will be filled with NaN values.\n"
      ]
    },
    {
      "cell_type": "markdown",
      "source": [
        "####Power Data"
      ],
      "metadata": {
        "id": "iErd7Xu023ka"
      }
    },
    {
      "cell_type": "code",
      "source": [
        "power_w2_active=fill_missing_dates(power_w2_active,'2021-07-01 00:00:00',bring_current_datetime())\n",
        "power_w2_reactive=fill_missing_dates(power_w2_reactive,'2021-07-01 00:00:00',bring_current_datetime())\n",
        "power_w2_apparent=fill_missing_dates(power_w2_apparent,'2021-07-01 00:00:00',bring_current_datetime())"
      ],
      "metadata": {
        "id": "U-T_NXaL2_hU"
      },
      "execution_count": 128,
      "outputs": []
    },
    {
      "cell_type": "code",
      "source": [
        "power_w3_active=fill_missing_dates(power_w3_active,'2021-07-01 00:00:00',bring_current_datetime())\n",
        "power_w3_reactive=fill_missing_dates(power_w3_reactive,'2021-07-01 00:00:00',bring_current_datetime())\n",
        "power_w3_apparent=fill_missing_dates(power_w3_apparent,'2021-07-01 00:00:00',bring_current_datetime())"
      ],
      "metadata": {
        "id": "pOtQcEfq3AfW"
      },
      "execution_count": 129,
      "outputs": []
    },
    {
      "cell_type": "code",
      "source": [
        "power_w4_active=fill_missing_dates(power_w4_active,'2021-07-01 00:00:00',bring_current_datetime())\n",
        "power_w4_reactive=fill_missing_dates(power_w4_reactive,'2021-07-01 00:00:00',bring_current_datetime())\n",
        "power_w4_apparent=fill_missing_dates(power_w4_apparent,'2021-07-01 00:00:00',bring_current_datetime())"
      ],
      "metadata": {
        "id": "cJPjg1WM3Bnr"
      },
      "execution_count": 130,
      "outputs": []
    },
    {
      "cell_type": "code",
      "source": [
        "power_w5_active=fill_missing_dates(power_w5_active,'2021-07-01 00:00:00',bring_current_datetime())\n",
        "power_w5_reactive=fill_missing_dates(power_w5_reactive,'2021-07-01 00:00:00',bring_current_datetime())\n",
        "power_w5_apparent=fill_missing_dates(power_w5_apparent,'2021-07-01 00:00:00',bring_current_datetime())"
      ],
      "metadata": {
        "id": "lHQ_rpRw3Coa"
      },
      "execution_count": 131,
      "outputs": []
    },
    {
      "cell_type": "code",
      "source": [
        "power_w6_active=fill_missing_dates(power_w6_active,'2021-07-01 00:00:00',bring_current_datetime())\n",
        "power_w6_reactive=fill_missing_dates(power_w6_reactive,'2021-07-01 00:00:00',bring_current_datetime())\n",
        "power_w6_apparent=fill_missing_dates(power_w6_apparent,'2021-07-01 00:00:00',bring_current_datetime())"
      ],
      "metadata": {
        "id": "gNFTVQgP3D8u"
      },
      "execution_count": 132,
      "outputs": []
    },
    {
      "cell_type": "markdown",
      "source": [
        "####Current Data"
      ],
      "metadata": {
        "id": "oHNMrA0H26U_"
      }
    },
    {
      "cell_type": "code",
      "source": [
        "i_w2_phase1 = fill_missing_dates(i_w2_phase1,'2021-07-01 00:00:00',bring_current_datetime())\n",
        "i_w2_phase2 = fill_missing_dates(i_w2_phase2,'2021-07-01 00:00:00',bring_current_datetime())\n",
        "i_w2_phase3 = fill_missing_dates(i_w2_phase3,'2021-07-01 00:00:00',bring_current_datetime())"
      ],
      "metadata": {
        "id": "CGX6jkaY3GGj"
      },
      "execution_count": 133,
      "outputs": []
    },
    {
      "cell_type": "code",
      "source": [
        "i_w3_phase1 = fill_missing_dates(i_w3_phase1,'2021-07-01 00:00:00',bring_current_datetime())\n",
        "i_w3_phase2 = fill_missing_dates(i_w3_phase2,'2021-07-01 00:00:00',bring_current_datetime())\n",
        "i_w3_phase3 = fill_missing_dates(i_w3_phase3,'2021-07-01 00:00:00',bring_current_datetime())"
      ],
      "metadata": {
        "id": "dKFcxRQg3HRI"
      },
      "execution_count": 134,
      "outputs": []
    },
    {
      "cell_type": "code",
      "source": [
        "i_w4_phase1 = fill_missing_dates(i_w4_phase1,'2021-07-01 00:00:00',bring_current_datetime())\n",
        "i_w4_phase2 = fill_missing_dates(i_w4_phase2,'2021-07-01 00:00:00',bring_current_datetime())\n",
        "i_w4_phase3 = fill_missing_dates(i_w4_phase3,'2021-07-01 00:00:00',bring_current_datetime())"
      ],
      "metadata": {
        "id": "BBQXOcpD3IX_"
      },
      "execution_count": 135,
      "outputs": []
    },
    {
      "cell_type": "code",
      "source": [
        "i_w5_phase1 = fill_missing_dates(i_w5_phase1,'2021-07-01 00:00:00',bring_current_datetime())\n",
        "i_w5_phase2 = fill_missing_dates(i_w5_phase2,'2021-07-01 00:00:00',bring_current_datetime())\n",
        "i_w5_phase3 = fill_missing_dates(i_w5_phase3,'2021-07-01 00:00:00',bring_current_datetime())"
      ],
      "metadata": {
        "id": "EP4zxQ8r3JaM"
      },
      "execution_count": 136,
      "outputs": []
    },
    {
      "cell_type": "code",
      "source": [
        "i_w6_phase1 = fill_missing_dates(i_w6_phase1,'2021-07-01 00:00:00',bring_current_datetime())\n",
        "i_w6_phase2 = fill_missing_dates(i_w6_phase2,'2021-07-01 00:00:00',bring_current_datetime())\n",
        "i_w6_phase3 = fill_missing_dates(i_w6_phase3,'2021-07-01 00:00:00',bring_current_datetime())"
      ],
      "metadata": {
        "id": "Cu5NBagD3KgQ"
      },
      "execution_count": 137,
      "outputs": []
    },
    {
      "cell_type": "markdown",
      "source": [
        "#### Voltage Data"
      ],
      "metadata": {
        "id": "l5hA4rZY29ck"
      }
    },
    {
      "cell_type": "code",
      "source": [
        "v_w2_phase1 = fill_missing_dates(v_w2_phase1,'2021-07-01 00:00:00',bring_current_datetime())\n",
        "v_w2_phase2 = fill_missing_dates(v_w2_phase2,'2021-07-01 00:00:00',bring_current_datetime())\n",
        "v_w2_phase3 = fill_missing_dates(v_w2_phase3,'2021-07-01 00:00:00',bring_current_datetime())"
      ],
      "metadata": {
        "id": "Bn8eg7Zr3ML2"
      },
      "execution_count": 138,
      "outputs": []
    },
    {
      "cell_type": "code",
      "source": [
        "v_w3_phase1 = fill_missing_dates(v_w3_phase1,'2021-07-01 00:00:00',bring_current_datetime())\n",
        "v_w3_phase2 = fill_missing_dates(v_w3_phase2,'2021-07-01 00:00:00',bring_current_datetime())\n",
        "v_w3_phase3 = fill_missing_dates(v_w3_phase3,'2021-07-01 00:00:00',bring_current_datetime())"
      ],
      "metadata": {
        "id": "DJKONI5i3NEQ"
      },
      "execution_count": 139,
      "outputs": []
    },
    {
      "cell_type": "code",
      "source": [
        "v_w4_phase1 = fill_missing_dates(v_w4_phase1,'2021-07-01 00:00:00',bring_current_datetime())\n",
        "v_w4_phase2 = fill_missing_dates(v_w4_phase2,'2021-07-01 00:00:00',bring_current_datetime())\n",
        "v_w4_phase3 = fill_missing_dates(v_w4_phase3,'2021-07-01 00:00:00',bring_current_datetime())"
      ],
      "metadata": {
        "id": "sA42gOXL3OC8"
      },
      "execution_count": 140,
      "outputs": []
    },
    {
      "cell_type": "code",
      "source": [
        "v_w5_phase1 = fill_missing_dates(v_w5_phase1,'2021-07-01 00:00:00',bring_current_datetime())\n",
        "v_w5_phase2 = fill_missing_dates(v_w5_phase2,'2021-07-01 00:00:00',bring_current_datetime())\n",
        "v_w5_phase3 = fill_missing_dates(v_w5_phase3,'2021-07-01 00:00:00',bring_current_datetime())"
      ],
      "metadata": {
        "id": "RSnnIKoz3R0P"
      },
      "execution_count": 141,
      "outputs": []
    },
    {
      "cell_type": "code",
      "source": [
        "v_w6_phase1 = fill_missing_dates(v_w6_phase1,'2021-07-01 00:00:00',bring_current_datetime())\n",
        "v_w6_phase2 = fill_missing_dates(v_w6_phase2,'2021-07-01 00:00:00',bring_current_datetime())\n",
        "v_w6_phase3 = fill_missing_dates(v_w6_phase3,'2021-07-01 00:00:00',bring_current_datetime())"
      ],
      "metadata": {
        "id": "nIja9y4p3S38"
      },
      "execution_count": 142,
      "outputs": []
    },
    {
      "cell_type": "markdown",
      "source": [
        "##Concatenaning all meters' dfs into one for power, current and voltage"
      ],
      "metadata": {
        "id": "LtwIZRv_yLHK"
      }
    },
    {
      "cell_type": "markdown",
      "metadata": {
        "id": "DXF8a1Ks3vCI"
      },
      "source": [
        "We will concatenate the different components of the same variable for every meter into one dataframe (phase 1,2 and 3 for current, and voltage and active,reactive and apparent power for power data)"
      ]
    },
    {
      "cell_type": "markdown",
      "source": [
        "###Concatenaning power, current and voltage dfs of each meter"
      ],
      "metadata": {
        "id": "M0Wsqku68kUE"
      }
    },
    {
      "cell_type": "markdown",
      "source": [
        "####Power Data"
      ],
      "metadata": {
        "id": "0Gae7jaB3w2n"
      }
    },
    {
      "cell_type": "code",
      "source": [
        "powerw2 = pd.concat([power_w2_active, power_w2_reactive], axis=1, join=\"inner\")\n",
        "powerw2=pd.concat([powerw2,power_w2_apparent], axis=1, join=\"inner\")\n",
        "powerw2=powerw2.rename(columns={\"positive_active\":\"active_w2\",\"positive_reactive\":\"reactive_w2\",\"apparent\":\"apparent_w2\"})"
      ],
      "metadata": {
        "id": "JXsy3oQw30Wd"
      },
      "execution_count": 143,
      "outputs": []
    },
    {
      "cell_type": "code",
      "source": [
        "powerw3 = pd.concat([power_w3_active, power_w3_reactive], axis=1, join=\"inner\")\n",
        "powerw3=pd.concat([powerw3,power_w3_apparent], axis=1, join=\"inner\")\n",
        "\n",
        "powerw3=powerw3.rename(columns={\"positive_active\":\"active_w3\",\"positive_reactive\":\"reactive_w3\",\"apparent\":\"apparent_w3\"})"
      ],
      "metadata": {
        "id": "6lh879j_31Sd"
      },
      "execution_count": 144,
      "outputs": []
    },
    {
      "cell_type": "code",
      "source": [
        "powerw4 = pd.concat([power_w4_active, power_w4_reactive], axis=1, join=\"inner\")\n",
        "powerw4=pd.concat([powerw4,power_w4_apparent], axis=1, join=\"inner\")\n",
        "powerw4=powerw4.rename(columns={\"positive_active\":\"active_w4\",\"positive_reactive\":\"reactive_w4\",\"apparent\":\"apparent_w4\"})"
      ],
      "metadata": {
        "id": "bGwz8SmS32X1"
      },
      "execution_count": 145,
      "outputs": []
    },
    {
      "cell_type": "code",
      "source": [
        "powerw5 = pd.concat([power_w5_active, power_w5_reactive], axis=1, join=\"inner\")\n",
        "powerw5=pd.concat([powerw5,power_w5_apparent], axis=1, join=\"inner\")\n",
        "powerw5=powerw5.rename(columns={\"positive_active\":\"active_w5\",\"positive_reactive\":\"reactive_w5\",\"apparent\":\"apparent_w5\"})"
      ],
      "metadata": {
        "id": "scI5rPKV33x0"
      },
      "execution_count": 146,
      "outputs": []
    },
    {
      "cell_type": "code",
      "source": [
        "powerw6 = pd.concat([power_w6_active, power_w6_reactive], axis=1, join=\"inner\")\n",
        "powerw6=pd.concat([powerw6,power_w6_apparent], axis=1, join=\"inner\")\n",
        "powerw6=powerw6.rename(columns={\"positive_active\":\"active_w6\",\"positive_reactive\":\"reactive_w6\",\"apparent\":\"apparent_w6\"})"
      ],
      "metadata": {
        "id": "qltMoAKP34wp"
      },
      "execution_count": 147,
      "outputs": []
    },
    {
      "cell_type": "markdown",
      "source": [
        "#### Current Data"
      ],
      "metadata": {
        "id": "cQdGpkp736sj"
      }
    },
    {
      "cell_type": "code",
      "source": [
        "i_w2 = pd.concat([i_w2_phase1, i_w2_phase2], axis=1, join=\"inner\")\n",
        "i_w2 = pd.concat([i_w2, i_w2_phase3], axis=1, join=\"inner\")"
      ],
      "metadata": {
        "id": "Q1UmtY9l377n"
      },
      "execution_count": 148,
      "outputs": []
    },
    {
      "cell_type": "code",
      "source": [
        "i_w3 = pd.concat([i_w3_phase1, i_w3_phase2], axis=1, join=\"inner\")\n",
        "i_w3 = pd.concat([i_w3, i_w3_phase3], axis=1, join=\"inner\")"
      ],
      "metadata": {
        "id": "COj09N-u39dD"
      },
      "execution_count": 149,
      "outputs": []
    },
    {
      "cell_type": "code",
      "source": [
        "i_w4 = pd.concat([i_w4_phase1, i_w4_phase2], axis=1, join=\"inner\")\n",
        "i_w4 = pd.concat([i_w4, i_w4_phase3], axis=1, join=\"inner\")"
      ],
      "metadata": {
        "id": "OabBYuUK3_gR"
      },
      "execution_count": 150,
      "outputs": []
    },
    {
      "cell_type": "code",
      "source": [
        "i_w5 = pd.concat([i_w5_phase1, i_w5_phase2], axis=1, join=\"inner\")\n",
        "i_w5 = pd.concat([i_w5, i_w5_phase3], axis=1, join=\"inner\")"
      ],
      "metadata": {
        "id": "BDiWRb5C4ATn"
      },
      "execution_count": 151,
      "outputs": []
    },
    {
      "cell_type": "code",
      "source": [
        "i_w6 = pd.concat([i_w6_phase1, i_w6_phase2], axis=1, join=\"inner\")\n",
        "i_w6 = pd.concat([i_w6, i_w6_phase3], axis=1, join=\"inner\")"
      ],
      "metadata": {
        "id": "HeMNstsX4BOJ"
      },
      "execution_count": 152,
      "outputs": []
    },
    {
      "cell_type": "markdown",
      "source": [
        "####Voltage Data\n"
      ],
      "metadata": {
        "id": "D5ajXD5f4DPd"
      }
    },
    {
      "cell_type": "code",
      "source": [
        "v_w2 = pd.concat([v_w2_phase1, v_w2_phase2], axis=1, join=\"inner\")\n",
        "v_w2 = pd.concat([v_w2, v_w2_phase3], axis=1, join=\"inner\")"
      ],
      "metadata": {
        "id": "YdgEyr1y4Epm"
      },
      "execution_count": 153,
      "outputs": []
    },
    {
      "cell_type": "code",
      "source": [
        "v_w3 = pd.concat([v_w3_phase1, v_w3_phase2], axis=1, join=\"inner\")\n",
        "v_w3 = pd.concat([v_w3, v_w3_phase3], axis=1, join=\"inner\")"
      ],
      "metadata": {
        "id": "fzQlzZiM4Gnu"
      },
      "execution_count": 154,
      "outputs": []
    },
    {
      "cell_type": "code",
      "source": [
        "v_w4 = pd.concat([v_w4_phase1, v_w4_phase2], axis=1, join=\"inner\")\n",
        "v_w4 = pd.concat([v_w4, v_w4_phase3], axis=1, join=\"inner\")"
      ],
      "metadata": {
        "id": "-_jILhk94HvC"
      },
      "execution_count": 155,
      "outputs": []
    },
    {
      "cell_type": "code",
      "source": [
        "v_w5 = pd.concat([v_w5_phase1, v_w5_phase2], axis=1, join=\"inner\")\n",
        "v_w5 = pd.concat([v_w5, v_w5_phase3], axis=1, join=\"inner\")"
      ],
      "metadata": {
        "id": "6_y2Xvsf4IqI"
      },
      "execution_count": 156,
      "outputs": []
    },
    {
      "cell_type": "code",
      "source": [
        "v_w6 = pd.concat([v_w6_phase1, v_w6_phase2], axis=1, join=\"inner\")\n",
        "v_w6 = pd.concat([v_w6, v_w6_phase3], axis=1, join=\"inner\")"
      ],
      "metadata": {
        "id": "LsX9TYLb4JjW"
      },
      "execution_count": 157,
      "outputs": []
    },
    {
      "cell_type": "markdown",
      "source": [
        "###Concatenaning power, current and voltage dfs of all meters"
      ],
      "metadata": {
        "id": "nS3GkQqi8yJY"
      }
    },
    {
      "cell_type": "markdown",
      "metadata": {
        "id": "rbuDR6Kg3vCJ"
      },
      "source": [
        "Finally, as we want to have one dataframe for each variable ( power, current, voltage), containing all the measurements from the different smart meteres, we will concatenate all diferrent meters' dfs to one df.\n"
      ]
    },
    {
      "cell_type": "markdown",
      "source": [
        "####Power Data"
      ],
      "metadata": {
        "id": "NXDwzZVs4NQE"
      }
    },
    {
      "cell_type": "code",
      "source": [
        "power = pd.concat([powerw2, powerw3], axis=1, join=\"inner\")\n",
        "power=pd.concat([power, powerw4], axis=1, join=\"inner\")\n",
        "power=pd.concat([power, powerw5], axis=1, join=\"inner\")\n",
        "power=pd.concat([power, powerw6], axis=1, join=\"inner\")"
      ],
      "metadata": {
        "id": "GsIN4WWq4OiY"
      },
      "execution_count": 158,
      "outputs": []
    },
    {
      "cell_type": "markdown",
      "source": [
        "####Current Data\n"
      ],
      "metadata": {
        "id": "PgAruON_4QLE"
      }
    },
    {
      "cell_type": "code",
      "source": [
        "current = pd.concat([i_w2, i_w3], axis=1, join=\"inner\")\n",
        "current = pd.concat([i_w4, current], axis=1, join=\"inner\")\n",
        "current = pd.concat([i_w5, current], axis=1, join=\"inner\")\n",
        "current = pd.concat([i_w6, current], axis=1, join=\"inner\")"
      ],
      "metadata": {
        "id": "_bYTiHnG4RtB"
      },
      "execution_count": 159,
      "outputs": []
    },
    {
      "cell_type": "markdown",
      "source": [
        "#### Voltage Data"
      ],
      "metadata": {
        "id": "U5n-5kWF4Tm4"
      }
    },
    {
      "cell_type": "code",
      "execution_count": 160,
      "metadata": {
        "id": "xJRPY_zA3vCJ"
      },
      "outputs": [],
      "source": [
        "voltage = pd.concat([v_w2, v_w3], axis=1, join=\"inner\")\n",
        "voltage = pd.concat([v_w4, voltage], axis=1, join=\"inner\")\n",
        "voltage = pd.concat([v_w5, voltage], axis=1, join=\"inner\")\n",
        "voltage = pd.concat([v_w6, voltage], axis=1, join=\"inner\")"
      ]
    },
    {
      "cell_type": "markdown",
      "source": [
        "##Giving datetime attributes to our dataframes"
      ],
      "metadata": {
        "id": "dH36mP_VLa-F"
      }
    },
    {
      "cell_type": "markdown",
      "source": [
        "Lastly, by taking the information from the datetime index, we create new columns which will display the weekday, day of month, month, hour of the day and the year each measurent took place."
      ],
      "metadata": {
        "id": "Jna17Rp7LiZu"
      }
    },
    {
      "cell_type": "code",
      "source": [
        "power['day_of_month']=power.index.day \n",
        "power['month']=power.index.month\n",
        "power['hour_of_day']=power.index.hour\n",
        "power['year']=power.index.year\n",
        "power['weekday']=power.index.day_name()"
      ],
      "metadata": {
        "id": "RUfEg0fp9D1z"
      },
      "execution_count": 161,
      "outputs": []
    },
    {
      "cell_type": "code",
      "source": [
        "current['day_of_month']=current.index.day \n",
        "current['month']=current.index.month\n",
        "current['hour_of_day']=current.index.hour\n",
        "current['year']=current.index.year\n",
        "current['weekday']=current.index.day_name()"
      ],
      "metadata": {
        "id": "8B0PEO2I9E3Y"
      },
      "execution_count": 162,
      "outputs": []
    },
    {
      "cell_type": "code",
      "source": [
        "voltage['day_of_month']=voltage.index.day \n",
        "voltage['month']=voltage.index.month\n",
        "voltage['hour_of_day']=voltage.index.hour\n",
        "voltage['year']=voltage.index.year\n",
        "voltage['weekday']=voltage.index.day_name()"
      ],
      "metadata": {
        "id": "HGhK9PyBPxGu"
      },
      "execution_count": 163,
      "outputs": []
    },
    {
      "cell_type": "markdown",
      "source": [
        "##Saving dataframes to CSVs"
      ],
      "metadata": {
        "id": "DWA4ZjsQ9gwV"
      }
    },
    {
      "cell_type": "markdown",
      "metadata": {
        "id": "MVeuz01PSlB-"
      },
      "source": [
        "Saving the resulted dataframes with the datetime attributes to csvs\n"
      ]
    },
    {
      "cell_type": "code",
      "execution_count": 164,
      "metadata": {
        "id": "xJ-oah1DZyzq"
      },
      "outputs": [],
      "source": [
        "power.to_csv(\"power_dt.csv\")\n",
        "\n",
        "voltage.to_csv(\"voltage_dt.csv\")\n",
        "\n",
        "current.to_csv(\"current_dt.csv\")\n"
      ]
    }
  ],
  "metadata": {
    "colab": {
      "provenance": []
    },
    "kernelspec": {
      "display_name": "Python 3",
      "name": "python3"
    },
    "language_info": {
      "name": "python"
    }
  },
  "nbformat": 4,
  "nbformat_minor": 0
}